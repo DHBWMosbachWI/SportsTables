{
 "cells": [
  {
   "cell_type": "markdown",
   "metadata": {},
   "source": [
    "# Web-Scraping"
   ]
  },
  {
   "cell_type": "code",
   "execution_count": 1,
   "metadata": {
    "ExecuteTime": {
     "start_time": "2023-05-11T08:42:47.485593Z",
     "end_time": "2023-05-11T08:47:45.178525Z"
    }
   },
   "outputs": [],
   "source": [
    "### extract all mlb data\n",
    "from dotenv import load_dotenv\n",
    "load_dotenv(override=True)\n",
    "import os\n",
    "from os.path import join\n",
    "import sys\n",
    "import time\n",
    "import pandas as pd\n",
    "\n",
    "from web_scraping import get_all_mlb_managers, get_all_mlb_teams, get_mlb_season_team_batting_stats, \\\n",
    "    get_mlb_season_team_pitching_stats, get_mlb_season_standings, get_mlb_draft_player_bio, get_mlb_season_standing\n",
    "\n",
    "df = get_all_mlb_managers()\n",
    "df.to_csv(join(os.environ[\"SportsTables\"], \"baseball\", f\"mlb_all_managers.csv\"), index=False)\n",
    "\n",
    "time.sleep(3)\n",
    "\n",
    "df = get_all_mlb_teams()\n",
    "df.to_csv(join(os.environ[\"SportsTables\"], \"baseball\", f\"mlb_all_teams.csv\"), index=False)\n",
    "\n",
    "time.sleep(3)\n",
    "\n",
    "for year in range(1980,2000):\n",
    "    df = get_mlb_season_team_batting_stats(year)\n",
    "    df.to_csv(join(os.environ[\"SportsTables\"], \"baseball\", f\"mlb_season_team_batting_stats_{year}.csv\"), index=False)\n",
    "    \n",
    "    time.sleep(3)\n",
    "    \n",
    "    df = get_mlb_season_team_pitching_stats(year)\n",
    "    df.to_csv(join(os.environ[\"SportsTables\"], \"baseball\", f\"mlb_season_team_pitching_stats_{year}.csv\"), index=False)\n",
    "    \n",
    "    time.sleep(3)\n",
    "\n",
    "    df = get_mlb_draft_player_bio(year)\n",
    "    df.to_csv(join(os.environ[\"SportsTables\"], \"baseball\", f\"mlb_season_draft_player_bios_{year}.csv\"), index=False)\n",
    "    \n",
    "    time.sleep(3)\n",
    "\n",
    "#Putting 6 charts together\n",
    "for year in range(1994,2000):\n",
    "    df = get_mlb_season_standings(year)\n",
    "    df.to_csv(join(os.environ[\"SportsTables\"], \"baseball\", f\"mlb_season_standings_{year}.csv\"), index=False)\n",
    "\n",
    "    time.sleep(3)\n",
    "\n",
    "#Putting 4 charts together\n",
    "for year in range(1980,1994):\n",
    "    df = get_mlb_season_standing(year)\n",
    "    df.to_csv(join(os.environ[\"SportsTables\"], \"baseball\", f\"mlb_season_standings_{year}.csv\"), index=False)\n",
    "\n",
    "    time.sleep(3)"
   ]
  },
  {
   "cell_type": "markdown",
   "metadata": {},
   "source": [
    "# Extract all column headers"
   ]
  },
  {
   "cell_type": "code",
   "execution_count": 2,
   "metadata": {
    "ExecuteTime": {
     "start_time": "2023-05-11T08:47:45.211837Z",
     "end_time": "2023-05-11T08:47:45.489051Z"
    }
   },
   "outputs": [
    {
     "name": "stdout",
     "output_type": "stream",
     "text": [
      "metadata.json exists already!!! \n"
     ]
    }
   ],
   "source": [
    "import pandas as pd\n",
    "import sys\n",
    "from os.path import join\n",
    "import os\n",
    "import json\n",
    "from glob import glob\n",
    "from dotenv import load_dotenv\n",
    "load_dotenv(override=True)\n",
    "\n",
    "\n",
    "metadata = {}\n",
    "\n",
    "tables = [\"all_managers\", \"all_teams\", \"team_batting_stats\", \"team_pitching_stats\", \"season_standings\", \n",
    "          \"draft_player_bios\"]\n",
    "\n",
    "for table in tables:\n",
    "    column_names = []\n",
    "    for found_table in glob(join(os.environ[\"SportsTables\"], \"baseball\", f\"*{table}*.csv\")):\n",
    "        column_names.extend(list(pd.read_csv(found_table).columns))\n",
    "\n",
    "    column_names = list(set(column_names))\n",
    "    metadata[table] = {}\n",
    "    for column_name in column_names:\n",
    "        metadata[table][column_name] = None\n",
    "\n",
    "if os.path.isfile(\"metadata.json\"):\n",
    "    print(\"metadata.json exists already!!! \")\n",
    "else:\n",
    "    with open(\"metadata.json\", \"w\") as f:\n",
    "        json.dump(metadata, f)"
   ]
  },
  {
   "cell_type": "code",
   "execution_count": null,
   "metadata": {},
   "outputs": [],
   "source": []
  }
 ],
 "metadata": {
  "kernelspec": {
   "display_name": "Python 3.9.2 64-bit",
   "language": "python",
   "name": "python3"
  },
  "language_info": {
   "codemirror_mode": {
    "name": "ipython",
    "version": 3
   },
   "file_extension": ".py",
   "mimetype": "text/x-python",
   "name": "python",
   "nbconvert_exporter": "python",
   "pygments_lexer": "ipython3",
   "version": "3.9.2"
  },
  "orig_nbformat": 4,
  "vscode": {
   "interpreter": {
    "hash": "31f2aee4e71d21fbe5cf8b01ff0e069b9275f58929596ceb00d14d90e3e16cd6"
   }
  }
 },
 "nbformat": 4,
 "nbformat_minor": 2
}
