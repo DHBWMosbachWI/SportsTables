{
 "cells": [
  {
   "cell_type": "code",
   "execution_count": 2,
   "metadata": {
    "collapsed": true,
    "ExecuteTime": {
     "start_time": "2023-05-16T20:54:31.922431Z",
     "end_time": "2023-05-16T20:55:46.554333Z"
    }
   },
   "outputs": [
    {
     "name": "stderr",
     "output_type": "stream",
     "text": [
      "C:\\Users\\krist\\AppData\\Local\\Temp\\ipykernel_24308\\2776950949.py:14: DeprecationWarning: executable_path has been deprecated, please pass in a Service object\n",
      "  driver = webdriver.Edge(r'../msedgedriver.exe', options=options) # ToDo better way of using driver files\n"
     ]
    },
    {
     "name": "stdout",
     "output_type": "stream",
     "text": [
      "not possible\n"
     ]
    },
    {
     "ename": "TypeError",
     "evalue": "'NoneType' object is not subscriptable",
     "output_type": "error",
     "traceback": [
      "\u001B[1;31m---------------------------------------------------------------------------\u001B[0m",
      "\u001B[1;31mTypeError\u001B[0m                                 Traceback (most recent call last)",
      "Cell \u001B[1;32mIn[2], line 53\u001B[0m\n\u001B[0;32m     51\u001B[0m \u001B[38;5;28;01mfor\u001B[39;00m year \u001B[38;5;129;01min\u001B[39;00m \u001B[38;5;28mrange\u001B[39m(\u001B[38;5;241m1994\u001B[39m,\u001B[38;5;241m2000\u001B[39m):\n\u001B[0;32m     52\u001B[0m     df \u001B[38;5;241m=\u001B[39m get_mlb_season_standings(year,driver)\n\u001B[1;32m---> 53\u001B[0m     \u001B[43mdf\u001B[49m\u001B[43m[\u001B[49m\u001B[38;5;241;43m0\u001B[39;49m\u001B[43m]\u001B[49m\u001B[38;5;241m.\u001B[39mto_csv(join(os\u001B[38;5;241m.\u001B[39menviron[\u001B[38;5;124m\"\u001B[39m\u001B[38;5;124mSportsTables\u001B[39m\u001B[38;5;124m\"\u001B[39m], \u001B[38;5;124m\"\u001B[39m\u001B[38;5;124mbaseball\u001B[39m\u001B[38;5;124m\"\u001B[39m, \u001B[38;5;124mf\u001B[39m\u001B[38;5;124m\"\u001B[39m\u001B[38;5;124mmlb_season_standings_\u001B[39m\u001B[38;5;132;01m{\u001B[39;00myear\u001B[38;5;132;01m}\u001B[39;00m\u001B[38;5;124m.csv\u001B[39m\u001B[38;5;124m\"\u001B[39m), index\u001B[38;5;241m=\u001B[39m\u001B[38;5;28;01mFalse\u001B[39;00m)\n\u001B[0;32m     54\u001B[0m     df[\u001B[38;5;241m1\u001B[39m]\u001B[38;5;241m.\u001B[39mto_csv(join(os\u001B[38;5;241m.\u001B[39menviron[\u001B[38;5;124m\"\u001B[39m\u001B[38;5;124mSportsTables\u001B[39m\u001B[38;5;124m\"\u001B[39m], \u001B[38;5;124m\"\u001B[39m\u001B[38;5;124mbaseball\u001B[39m\u001B[38;5;124m\"\u001B[39m, \u001B[38;5;124mf\u001B[39m\u001B[38;5;124m\"\u001B[39m\u001B[38;5;124mmlb_Major_League_Detailed_Standing_Standing_\u001B[39m\u001B[38;5;132;01m{\u001B[39;00myear\u001B[38;5;132;01m}\u001B[39;00m\u001B[38;5;124m.csv\u001B[39m\u001B[38;5;124m\"\u001B[39m), index\u001B[38;5;241m=\u001B[39m\u001B[38;5;28;01mFalse\u001B[39;00m)\n\u001B[0;32m     55\u001B[0m     time\u001B[38;5;241m.\u001B[39msleep(\u001B[38;5;241m3\u001B[39m)\n",
      "\u001B[1;31mTypeError\u001B[0m: 'NoneType' object is not subscriptable"
     ]
    }
   ],
   "source": [
    "### extract all data for nfl\n",
    "from dotenv import load_dotenv\n",
    "load_dotenv(override=True)\n",
    "import os\n",
    "from os.path import join\n",
    "import time\n",
    "from selenium import webdriver\n",
    "\n",
    "from web_scraping import get_all_mlb_managers, get_all_mlb_teams, get_mlb_season_team_batting_stats, \\\n",
    "    get_mlb_season_team_pitching_stats, get_mlb_season_standings, get_mlb_draft_player_bio, get_mlb_season_standing\n",
    "\n",
    "options = webdriver.EdgeOptions()\n",
    "options.add_argument('headless')\n",
    "driver = webdriver.Edge(r'../msedgedriver.exe', options=options) # ToDo better way of using driver files\n",
    "\n",
    "\n",
    "time.sleep(3)\n",
    "\n",
    "'''\n",
    "df = get_all_mlb_managers(driver)\n",
    "df.to_csv(join(os.environ[\"SportsTables\"], \"baseball\", f\"mlb_all_teams_mlb_all_managers.csv\"), index=False) #works\n",
    "\n",
    "\n",
    "df = get_all_mlb_teams(driver)\n",
    "df[0].to_csv(join(os.environ[\"SportsTables\"], \"baseball\", f\"mlb_all_teams.csv\"), index=False)\n",
    "df[1].to_csv(join(os.environ[\"SportsTables\"], \"baseball\", f\"mlb_inactive_franchises.csv\"), index=False)\n",
    "df[2].to_csv(join(os.environ[\"SportsTables\"], \"baseball\", f\"mlb_national_association_franchises.csv\"), index=False)\n",
    "\n",
    "time.sleep(3)\n",
    "\n",
    "for year in range(1980,2000):\n",
    "\n",
    "    print(year)\n",
    "    df = get_mlb_season_team_batting_stats(year, driver) # uses selenium # works\n",
    "    df[0].to_csv(join(os.environ[\"SportsTables\"], \"baseball\", f\"mlb_season_team_batting_stats.csv\"), index=False)\n",
    "    df[1].to_csv(join(os.environ[\"SportsTables\"], \"baseball\", f\"mlb_player_standing_batting.csv\"), index=False)\n",
    "    time.sleep(3)\n",
    "\n",
    "    df = get_mlb_season_team_pitching_stats(year,driver) #works\n",
    "    df[0].to_csv(join(os.environ[\"SportsTables\"], \"baseball\", f\"mlb_season_team_pitching_stats_{year}.csv\"), index=False)\n",
    "    df[1].to_csv(join(os.environ[\"SportsTables\"], \"baseball\", f\"mlb_player_standing_pitching{year}.csv\"), index=False)\n",
    "    time.sleep(3)\n",
    "\n",
    "    df = get_mlb_draft_player_bio(year, driver) #works\n",
    "    df[0].to_csv(join(os.environ[\"SportsTables\"], \"hockey\", f\"mlb_season_draft_player_bios_{year}.csv\"), index=False)\n",
    "    df[1].to_csv(join(os.environ[\"SportsTables\"], \"baseball\", f\"mlb_batting_{year}.csv\"), index=False)\n",
    "    df[2].to_csv(join(os.environ[\"SportsTables\"], \"baseball\", f\"mlb_pitching_{year}.csv\"), index=False)\n",
    "    time.sleep(3)\n",
    "'''\n",
    "\n",
    "for year in range(1994,2000):\n",
    "    df = get_mlb_season_standings(year,driver)\n",
    "    df[0].to_csv(join(os.environ[\"SportsTables\"], \"baseball\", f\"mlb_season_standings_{year}.csv\"), index=False)\n",
    "    df[1].to_csv(join(os.environ[\"SportsTables\"], \"baseball\", f\"mlb_Major_League_Detailed_Standing_Standing_{year}.csv\"), index=False)\n",
    "    time.sleep(3)\n",
    "\n",
    "\n",
    "\n",
    "for year in range(1980,1994):\n",
    "    df = get_mlb_season_standing(year,driver)\n",
    "    df[0].to_csv(join(os.environ[\"SportsTables\"], \"baseball\", f\"mlb_season_standings_{year}.csv\"), index=False)\n",
    "    df[1].to_csv(join(os.environ[\"SportsTables\"], \"baseball\", f\"mlb_Major_League_Detailed_Standing_Standing_{year}.csv\"), index=False)\n",
    "    time.sleep(3)\n",
    "\n",
    "\n",
    "driver.quit()\n"
   ]
  },
  {
   "cell_type": "code",
   "execution_count": null,
   "outputs": [],
   "source": [],
   "metadata": {
    "collapsed": false
   }
  }
 ],
 "metadata": {
  "kernelspec": {
   "display_name": "Python 3",
   "language": "python",
   "name": "python3"
  },
  "language_info": {
   "codemirror_mode": {
    "name": "ipython",
    "version": 2
   },
   "file_extension": ".py",
   "mimetype": "text/x-python",
   "name": "python",
   "nbconvert_exporter": "python",
   "pygments_lexer": "ipython2",
   "version": "2.7.6"
  }
 },
 "nbformat": 4,
 "nbformat_minor": 0
}
