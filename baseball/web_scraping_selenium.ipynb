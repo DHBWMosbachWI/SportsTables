{
 "cells": [
  {
   "cell_type": "code",
   "execution_count": 2,
   "metadata": {
    "collapsed": true,
    "ExecuteTime": {
     "start_time": "2023-05-20T23:16:34.202716Z",
     "end_time": "2023-05-20T23:17:26.204045Z"
    }
   },
   "outputs": [
    {
     "name": "stderr",
     "output_type": "stream",
     "text": [
      "C:\\Users\\krist\\AppData\\Local\\Temp\\ipykernel_25084\\2572370252.py:14: DeprecationWarning: executable_path has been deprecated, please pass in a Service object\n",
      "  driver = webdriver.Edge(r'../msedgedriver.exe', options=options) # ToDo better way of using driver files\n"
     ]
    }
   ],
   "source": [
    "### extract all data for nfl\n",
    "from dotenv import load_dotenv\n",
    "load_dotenv(override=True)\n",
    "import os\n",
    "from os.path import join\n",
    "import time\n",
    "from selenium import webdriver\n",
    "\n",
    "from web_scraping import get_all_mlb_managers, get_all_mlb_teams, get_mlb_season_team_batting_stats, \\\n",
    "    get_mlb_season_team_pitching_stats, get_mlb_season_standings, get_mlb_draft_player_bio, get_mlb_season_standing\n",
    "\n",
    "options = webdriver.EdgeOptions()\n",
    "options.add_argument('headless')\n",
    "driver = webdriver.Edge(r'../msedgedriver.exe', options=options) # ToDo better way of using driver files\n",
    "\n",
    "\n",
    "time.sleep(3)\n",
    "\n",
    "\n",
    "df = get_all_mlb_managers(driver)\n",
    "df.to_csv(join(os.environ[\"SportsTables\"], \"baseball\", f\"mlb_all_teams_mlb_all_managers.csv\"), index=False) #works\n",
    "\n",
    "\n",
    "df = get_all_mlb_teams(driver)\n",
    "df[0].to_csv(join(os.environ[\"SportsTables\"], \"baseball\", f\"mlb_all_teams.csv\"), index=False)\n",
    "df[1].to_csv(join(os.environ[\"SportsTables\"], \"baseball\", f\"mlb_inactive_franchises.csv\"), index=False)\n",
    "df[2].to_csv(join(os.environ[\"SportsTables\"], \"baseball\", f\"mlb_national_association_franchises.csv\"), index=False)\n",
    "\n",
    "time.sleep(3)\n",
    "\n",
    "for year in range(1980,2000):\n",
    "\n",
    "    print(year)\n",
    "\n",
    "    df = get_mlb_season_team_batting_stats(year, driver) # uses selenium # works\n",
    "    df[0].to_csv(join(os.environ[\"SportsTables\"], \"baseball\", f\"mlb_season_team_batting_stats.csv\"), index=False)\n",
    "    df[1].to_csv(join(os.environ[\"SportsTables\"], \"baseball\", f\"mlb_player_standing_batting.csv\"), index=False)\n",
    "    time.sleep(3)\n",
    "\n",
    "    df = get_mlb_season_team_pitching_stats(year,driver) #works\n",
    "    df[0].to_csv(join(os.environ[\"SportsTables\"], \"baseball\", f\"mlb_season_team_pitching_stats_{year}.csv\"), index=False)\n",
    "    df[1].to_csv(join(os.environ[\"SportsTables\"], \"baseball\", f\"mlb_player_standing_pitching{year}.csv\"), index=False)\n",
    "    time.sleep(3)\n",
    "\n",
    "    df = get_mlb_draft_player_bio(year, driver) #works\n",
    "    df[0].to_csv(join(os.environ[\"SportsTables\"], \"hockey\", f\"mlb_season_draft_player_bios_{year}.csv\"), index=False)\n",
    "    df[1].to_csv(join(os.environ[\"SportsTables\"], \"baseball\", f\"mlb_batting_{year}.csv\"), index=False)\n",
    "    df[2].to_csv(join(os.environ[\"SportsTables\"], \"baseball\", f\"mlb_pitching_{year}.csv\"), index=False)\n",
    "    time.sleep(3)\n",
    "\n",
    "\n",
    "for year in range(1994,2000):\n",
    "\n",
    "    df = get_mlb_season_standings(year,driver)\n",
    "    m=len(df)\n",
    "\n",
    "    df[m-7].to_csv(join(os.environ[\"SportsTables\"], \"baseball\", f\"4Tabellen_{year}.csv\"), index=False)\n",
    "    df[m-6].to_csv(join(os.environ[\"SportsTables\"], \"baseball\", f\"east_center_west_division1_{year}.csv\"), mode='a', index=False)\n",
    "    df[m-5].to_csv(join(os.environ[\"SportsTables\"], \"baseball\", f\"east_center_west_division2_{year}.csv\"), mode='a', index=False)\n",
    "    df[m-4].to_csv(join(os.environ[\"SportsTables\"], \"baseball\", f\"east_center_west_division3_{year}.csv\"), mode='a', index=False)\n",
    "    df[m-3].to_csv(join(os.environ[\"SportsTables\"], \"baseball\", f\"east_center_west_division4_{year}.csv\"), mode='a', index=False)\n",
    "    df[m-2].to_csv(join(os.environ[\"SportsTables\"], \"baseball\", f\"east_center_west_division5_{year}.csv\"), mode='a', index=False)\n",
    "    df[m-1].to_csv(join(os.environ[\"SportsTables\"], \"baseball\", f\"Major_League_Pages1_{year}.csv\"), index=False)\n",
    "time.sleep(3)\n",
    "\n",
    "for year in range(1980,1994):\n",
    "\n",
    "    df = get_mlb_season_standing(year,driver)\n",
    "    l=len(df)\n",
    "    df[l-5].to_csv(join(os.environ[\"SportsTables\"], \"baseball\", f\"east_west_division1_{year}.csv\"), index=False)\n",
    "    df[l-4].to_csv(join(os.environ[\"SportsTables\"], \"baseball\", f\"east_west_division2_{year}.csv\"),mode='a', index=False)\n",
    "    df[l-3].to_csv(join(os.environ[\"SportsTables\"], \"baseball\", f\"east_west_division3_{year}.csv\"),mode='a', index=False)\n",
    "    df[l-2].to_csv(join(os.environ[\"SportsTables\"], \"baseball\", f\"east_west_division4_{year}.csv\"),mode='a', index=False)\n",
    "    df[l-1].to_csv(join(os.environ[\"SportsTables\"], \"baseball\", f\"Major_League_Pages2_{year}.csv\"), index=False)\n",
    "\n",
    "time.sleep(3)\n",
    "\n",
    "\n",
    "driver.quit()\n"
   ]
  },
  {
   "cell_type": "code",
   "execution_count": 1,
   "outputs": [],
   "source": [],
   "metadata": {
    "collapsed": false,
    "ExecuteTime": {
     "start_time": "2023-05-19T23:10:08.744401Z",
     "end_time": "2023-05-19T23:10:08.767284Z"
    }
   }
  },
  {
   "cell_type": "code",
   "execution_count": null,
   "outputs": [],
   "source": [],
   "metadata": {
    "collapsed": false
   }
  }
 ],
 "metadata": {
  "kernelspec": {
   "display_name": "Python 3",
   "language": "python",
   "name": "python3"
  },
  "language_info": {
   "codemirror_mode": {
    "name": "ipython",
    "version": 2
   },
   "file_extension": ".py",
   "mimetype": "text/x-python",
   "name": "python",
   "nbconvert_exporter": "python",
   "pygments_lexer": "ipython2",
   "version": "2.7.6"
  }
 },
 "nbformat": 4,
 "nbformat_minor": 0
}
