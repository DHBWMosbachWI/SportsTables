{
 "cells": [
  {
   "cell_type": "markdown",
   "metadata": {},
   "source": [
    "# Web-Scraping"
   ]
  },
  {
   "cell_type": "code",
   "execution_count": 1,
   "metadata": {},
   "outputs": [
    {
     "name": "stdout",
     "output_type": "stream",
     "text": [
      "1980\n",
      "1981\n",
      "1982\n",
      "1983\n",
      "1984\n",
      "1985\n",
      "1986\n",
      "1987\n",
      "1988\n",
      "1989\n",
      "1990\n",
      "1991\n",
      "1992\n",
      "1993\n",
      "1994\n",
      "1995\n",
      "1996\n",
      "1997\n",
      "1998\n",
      "1999\n"
     ]
    }
   ],
   "source": [
    "### extract all data for nfl\n",
    "from dotenv import load_dotenv\n",
    "load_dotenv(override=True)\n",
    "import os\n",
    "from os.path import join\n",
    "import sys\n",
    "import time\n",
    "\n",
    "from web_scraping import get_player_passing_stats, get_player_rushing_stats, get_player_receiving_stats, get_player_scrimmage_stats, get_player_defense_stats, get_all_nfl_teams, get_all_stadiums, get_team_defense_stats, get_team_season_standings\n",
    "import pandas as pd\n",
    "\n",
    "df = get_all_nfl_teams()\n",
    "df.to_csv(join(os.environ[\"SportsTables\"], \"football\", f\"nfl_all_teams.csv\"), index=False)\n",
    "\n",
    "time.sleep(3)\n",
    "\n",
    "df = get_all_stadiums()\n",
    "df.to_csv(join(os.environ[\"SportsTables\"], \"football\", f\"nfl_all_stadiums.csv\"), index=False)\n",
    "\n",
    "time.sleep(3)\n",
    "\n",
    "for year in range(1980,2000):\n",
    "    print(year)\n",
    "    df = get_player_passing_stats(year)\n",
    "    df.to_csv(join(os.environ[\"SportsTables\"], \"football\", f\"nfl_season_player_passing_stats_{year}.csv\"), index=False)\n",
    "    \n",
    "    time.sleep(3)\n",
    "\n",
    "    df = get_player_rushing_stats(year)\n",
    "    df.to_csv(join(os.environ[\"SportsTables\"], \"football\", f\"nfl_season_player_rushing_stats_{year}.csv\"), index=False)\n",
    "    \n",
    "    time.sleep(3)\n",
    "    \n",
    "    df = get_player_receiving_stats(year)\n",
    "    df.to_csv(join(os.environ[\"SportsTables\"], \"football\", f\"nfl_season_player_receiving_stats_{year}.csv\"), index=False)\n",
    "    \n",
    "    time.sleep(3)\n",
    "    \n",
    "    df = get_player_scrimmage_stats(year)\n",
    "    df.to_csv(join(os.environ[\"SportsTables\"], \"football\", f\"nfl_season_player_scrimmage_stats_{year}.csv\"), index=False)\n",
    "    \n",
    "    time.sleep(3)\n",
    "    \n",
    "    df = get_player_defense_stats(year)\n",
    "    df.to_csv(join(os.environ[\"SportsTables\"], \"football\", f\"nfl_season_player_defense_stats_{year}.csv\"), index=False)\n",
    "    \n",
    "    time.sleep(3)\n",
    "    \n",
    "    df = get_team_defense_stats(year)\n",
    "    df.to_csv(join(os.environ[\"SportsTables\"], \"football\", f\"nfl_season_team_defense_stats_{year}.csv\"), index=False)\n",
    "    \n",
    "    time.sleep(3)\n",
    "    \n",
    "    df = get_team_season_standings(year)\n",
    "    df.to_csv(join(os.environ[\"SportsTables\"], \"football\", f\"nfl_season_standings_{year}.csv\"), index=False)\n",
    "    \n",
    "    time.sleep(3)\n"
   ]
  },
  {
   "cell_type": "markdown",
   "metadata": {},
   "source": [
    "# Extract all column headers "
   ]
  },
  {
   "cell_type": "code",
   "execution_count": 5,
   "metadata": {},
   "outputs": [],
   "source": [
    "import pandas as pd\n",
    "import sys\n",
    "from os.path import join\n",
    "import os\n",
    "import json\n",
    "from glob import glob\n",
    "from dotenv import load_dotenv\n",
    "load_dotenv(override=True)\n",
    "\n",
    "\n",
    "metadata = {}\n",
    "\n",
    "tables = [\"player_defense_stats\", \"all_teams\", \"all_stadiums\", \"player_passing_stats\", \"player_receiving_stats\",\n",
    "          \"player_rushing_stats\", \"player_scrimmage_stats\", \"season_standings\", \"team_defense_stats\"]\n",
    "\n",
    "for table in tables:\n",
    "    column_names = []\n",
    "    for found_table in glob(join(os.environ[\"SportsTables\"], \"football\", f\"*{table}*.csv\")):\n",
    "        column_names.extend(list(pd.read_csv(found_table).columns))\n",
    "\n",
    "    column_names = list(set(column_names))\n",
    "    metadata[table] = {}\n",
    "    for column_name in column_names:\n",
    "        metadata[table][column_name] = None\n",
    "\n",
    "if os.path.isfile(\"metadata.json\"):\n",
    "    print(\"metadata.json exists already!!! \")\n",
    "else:\n",
    "    with open(\"metadata.json\", \"w\") as f:\n",
    "        json.dump(metadata, f)\n"
   ]
  },
  {
   "cell_type": "code",
   "execution_count": null,
   "metadata": {},
   "outputs": [],
   "source": []
  }
 ],
 "metadata": {
  "kernelspec": {
   "display_name": "Python 3.9.2 64-bit",
   "language": "python",
   "name": "python3"
  },
  "language_info": {
   "codemirror_mode": {
    "name": "ipython",
    "version": 3
   },
   "file_extension": ".py",
   "mimetype": "text/x-python",
   "name": "python",
   "nbconvert_exporter": "python",
   "pygments_lexer": "ipython3",
   "version": "3.9.2"
  },
  "orig_nbformat": 4,
  "vscode": {
   "interpreter": {
    "hash": "31f2aee4e71d21fbe5cf8b01ff0e069b9275f58929596ceb00d14d90e3e16cd6"
   }
  }
 },
 "nbformat": 4,
 "nbformat_minor": 2
}
