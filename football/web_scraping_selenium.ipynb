{
 "cells": [
  {
   "cell_type": "code",
   "execution_count": 1,
   "metadata": {
    "collapsed": true,
    "ExecuteTime": {
     "start_time": "2023-05-08T11:06:56.262951Z",
     "end_time": "2023-05-08T11:17:26.453316Z"
    }
   },
   "outputs": [
    {
     "name": "stderr",
     "output_type": "stream",
     "text": [
      "C:\\Users\\WN00164431\\AppData\\Local\\Temp\\ipykernel_1620\\4132829723.py:13: DeprecationWarning: executable_path has been deprecated, please pass in a Service object\n",
      "  driver = webdriver.Edge(r'../msedgedriver.exe', options=options) # ToDo better way of using driver files\n"
     ]
    },
    {
     "name": "stdout",
     "output_type": "stream",
     "text": [
      "1980\n",
      "1981\n",
      "1982\n",
      "1983\n",
      "1984\n",
      "1985\n",
      "1986\n",
      "1987\n",
      "1988\n",
      "1989\n",
      "1990\n",
      "1991\n",
      "1992\n",
      "1993\n",
      "1994\n",
      "1995\n",
      "1996\n",
      "1997\n",
      "1998\n",
      "1999\n"
     ]
    }
   ],
   "source": [
    "### extract all data for nfl\n",
    "from dotenv import load_dotenv\n",
    "load_dotenv(override=True)\n",
    "import os\n",
    "from os.path import join\n",
    "import time\n",
    "from selenium import webdriver\n",
    "\n",
    "from web_scraping import get_player_passing_stats, get_player_rushing_stats, get_player_receiving_stats, get_player_scrimmage_stats, get_player_defense_stats, get_all_nfl_teams, get_all_stadiums, get_team_defense_stats, get_team_season_standings\n",
    "\n",
    "options = webdriver.EdgeOptions()\n",
    "options.add_argument('headless')\n",
    "driver = webdriver.Edge(r'../msedgedriver.exe', options=options) # ToDo better way of using driver files\n",
    "\n",
    "\n",
    "df = get_all_nfl_teams(driver) # uses selenium\n",
    "df[0].to_csv(join(os.environ[\"SportsTables\"], \"football\", f\"nfl_all_teams_active_franchises.csv\"), index=False)\n",
    "df[1].to_csv(join(os.environ[\"SportsTables\"], \"football\", f\"nfl_all_teams_inactive_franchises.csv\"), index=False)\n",
    "\n",
    "\n",
    "\n",
    "time.sleep(3)\n",
    "\n",
    "df = get_all_stadiums()\n",
    "df.to_csv(join(os.environ[\"SportsTables\"], \"football\", f\"nfl_all_stadiums.csv\"), index=False)\n",
    "\n",
    "time.sleep(3)\n",
    "\n",
    "for year in range(1980,2000):\n",
    "\n",
    "    print(year)\n",
    "    df = get_player_passing_stats(year, driver) # uses selenium\n",
    "    df.to_csv(join(os.environ[\"SportsTables\"], \"football\", f\"nfl_season_player_passing_stats_{year}.csv\"), index=False)\n",
    "\n",
    "    time.sleep(3)\n",
    "\n",
    "    df = get_player_rushing_stats(year)\n",
    "    df.to_csv(join(os.environ[\"SportsTables\"], \"football\", f\"nfl_season_player_rushing_stats_{year}.csv\"), index=False)\n",
    "\n",
    "    time.sleep(3)\n",
    "\n",
    "    df = get_player_receiving_stats(year)\n",
    "    df.to_csv(join(os.environ[\"SportsTables\"], \"football\", f\"nfl_season_player_receiving_stats_{year}.csv\"), index=False)\n",
    "\n",
    "    time.sleep(3)\n",
    "\n",
    "    df = get_player_scrimmage_stats(year)\n",
    "    df.to_csv(join(os.environ[\"SportsTables\"], \"football\", f\"nfl_season_player_scrimmage_stats_{year}.csv\"), index=False)\n",
    "\n",
    "    time.sleep(3)\n",
    "\n",
    "    df = get_player_defense_stats(year)\n",
    "    df.to_csv(join(os.environ[\"SportsTables\"], \"football\", f\"nfl_season_player_defense_stats_{year}.csv\"), index=False)\n",
    "\n",
    "    time.sleep(3)\n",
    "\n",
    "    df = get_team_defense_stats(year)\n",
    "    df.to_csv(join(os.environ[\"SportsTables\"], \"football\", f\"nfl_season_team_defense_stats_{year}.csv\"), index=False)\n",
    "\n",
    "    time.sleep(3)\n",
    "\n",
    "    df = get_team_season_standings(year)\n",
    "    df.to_csv(join(os.environ[\"SportsTables\"], \"football\", f\"nfl_season_standings_{year}.csv\"), index=False)\n",
    "\n",
    "    time.sleep(3)\n",
    "\n",
    "driver.quit()\n"
   ]
  }
 ],
 "metadata": {
  "kernelspec": {
   "display_name": "Python 3",
   "language": "python",
   "name": "python3"
  },
  "language_info": {
   "codemirror_mode": {
    "name": "ipython",
    "version": 2
   },
   "file_extension": ".py",
   "mimetype": "text/x-python",
   "name": "python",
   "nbconvert_exporter": "python",
   "pygments_lexer": "ipython2",
   "version": "2.7.6"
  }
 },
 "nbformat": 4,
 "nbformat_minor": 0
}
