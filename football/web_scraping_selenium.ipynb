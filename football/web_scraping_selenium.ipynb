{
 "cells": [
  {
   "cell_type": "code",
   "execution_count": 1,
   "metadata": {
    "collapsed": true,
    "ExecuteTime": {
     "start_time": "2023-07-06T16:19:31.200821Z",
     "end_time": "2023-07-06T16:20:51.397354Z"
    }
   },
   "outputs": [
    {
     "name": "stdout",
     "output_type": "stream",
     "text": [
      "Saved nfl_all_teams_active_franchises.csv\n",
      "Saved nfl_all_teams_inactive_franchises.csv\n",
      "Saved nfl_all_stadiums.csv\n",
      "Saved nfl_season_player_passing_stats_1980.csv\n",
      "Saved nfl_season_player_rushing_stats_1980.csv\n",
      "Saved nfl_season_player_receiving_stats_1980.csv\n",
      "Saved nfl_season_player_scrimmage_stats_1980.csv\n",
      "Saved nfl_season_player_defense_stats_1980.csv\n",
      "Saved nfl_season_player_kicking_stats_1980.csv\n",
      "Saved nfl_season_player_punting_stats_1980.csv\n",
      "Saved nfl_season_player_return_stats_1980.csv\n",
      "Saved nfl_season_player_scoring_stats_1980.csv\n",
      "Saved nfl_season_team_defense_stats_1980.csv\n",
      "Saved nfl_season_team_passing_defense_stats_1980.csv\n",
      "Saved nfl_season_team_rushing_defense_stats_1980.csv\n",
      "Saved nfl_season_team_returns_against_stats_1980.csv\n",
      "Saved nfl_season_team_kicking_against_stats_1980.csv\n",
      "Saved nfl_season_team_punting_against_stats_1980.csv\n",
      "Saved nfl_season_team_scoring_defense_stats_1980.csv\n",
      "Saved nfl_season_team_conversions_against_stats_1980.csv\n",
      "Saved nfl_season_team_afc_standings_1980.csv\n",
      "Saved nfl_season_team_nfc_standings_1980.csv\n",
      "Saved nfl_season_team_playoff_results_stats_1980.csv\n",
      "Saved nfl_season_team_offense_stats_1980.csv\n",
      "Saved nfl_season_team_passing_offense_stats_1980.csv\n",
      "Saved nfl_season_team_rushing_offense_stats_1980.csv\n",
      "Saved nfl_season_team_returns_stats_1980.csv\n",
      "Saved nfl_season_team_kicking_stats_1980.csv\n",
      "Saved nfl_season_team_punting_stats_1980.csv\n",
      "Saved nfl_season_team_scoring_offense_stats_1980.csv\n",
      "Saved nfl_season_team_conversions_stats_1980.csv\n"
     ]
    }
   ],
   "source": [
    "### extract all data for nfl\n",
    "from dotenv import load_dotenv\n",
    "load_dotenv(override=True)\n",
    "import time\n",
    "from selenium import webdriver\n",
    "from selenium.webdriver.edge.service import Service as EdgeService\n",
    "from webdriver_manager.microsoft import EdgeChromiumDriverManager # download Driver manager according to your installed browser\n",
    "\n",
    "\n",
    "\n",
    "from web_scraping import get_player_passing_stats, get_player_rushing_stats, get_player_receiving_stats, get_player_scrimmage_stats, get_player_defense_stats, get_player_kicking_stats, get_player_punting_stats, get_player_return_stats, get_player_scoring_stats, get_all_nfl_teams, get_all_stadiums, get_team_defense_stats, get_team_season_standings\n",
    "\n",
    "options = webdriver.EdgeOptions() # add browser options according to your installed browser\n",
    "options.add_argument(\"--headless\")\n",
    "driver = webdriver.Edge(service=EdgeService(EdgeChromiumDriverManager().install()), options=options) # install browser driver\n",
    "# install browserdriver\n",
    "\n",
    "get_all_nfl_teams(driver)\n",
    "time.sleep(3)\n",
    "\n",
    "get_all_stadiums(driver)\n",
    "time.sleep(3)\n",
    "\n",
    "for year in range(1980,1981):\n",
    "\n",
    "    get_player_passing_stats(year, driver)\n",
    "    time.sleep(3)\n",
    "\n",
    "    get_player_rushing_stats(year, driver)\n",
    "    time.sleep(3)\n",
    "\n",
    "    get_player_receiving_stats(year, driver)\n",
    "    time.sleep(3)\n",
    "\n",
    "    get_player_scrimmage_stats(year, driver)\n",
    "    time.sleep(3)\n",
    "\n",
    "    get_player_defense_stats(year, driver)\n",
    "    time.sleep(3)\n",
    "\n",
    "    get_player_kicking_stats(year, driver)\n",
    "    time.sleep(3)\n",
    "\n",
    "    get_player_punting_stats(year, driver)\n",
    "    time.sleep(3)\n",
    "\n",
    "    get_player_return_stats(year, driver)\n",
    "    time.sleep(3)\n",
    "\n",
    "    get_player_scoring_stats(year, driver)\n",
    "    time.sleep(3)\n",
    "\n",
    "    get_team_defense_stats(year, driver)\n",
    "    time.sleep(3)\n",
    "\n",
    "    get_team_season_standings(year, driver)\n",
    "    time.sleep(3)\n",
    "\n",
    "driver.quit()\n"
   ]
  },
  {
   "cell_type": "code",
   "execution_count": null,
   "outputs": [],
   "source": [],
   "metadata": {
    "collapsed": false
   }
  }
 ],
 "metadata": {
  "kernelspec": {
   "display_name": "Python 3",
   "language": "python",
   "name": "python3"
  },
  "language_info": {
   "codemirror_mode": {
    "name": "ipython",
    "version": 2
   },
   "file_extension": ".py",
   "mimetype": "text/x-python",
   "name": "python",
   "nbconvert_exporter": "python",
   "pygments_lexer": "ipython2",
   "version": "2.7.6"
  }
 },
 "nbformat": 4,
 "nbformat_minor": 0
}
