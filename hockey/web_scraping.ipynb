{
 "cells": [
  {
   "cell_type": "markdown",
   "metadata": {},
   "source": [
    "# Web-Scraping"
   ]
  },
  {
   "cell_type": "code",
   "execution_count": 2,
   "metadata": {
    "ExecuteTime": {
     "start_time": "2023-05-08T17:56:39.703066Z",
     "end_time": "2023-05-08T18:04:48.877132Z"
    }
   },
   "outputs": [
    {
     "ename": "IndentationError",
     "evalue": "unindent does not match any outer indentation level (<tokenize>, line 34)",
     "output_type": "error",
     "traceback": [
      "\u001B[1;36m  File \u001B[1;32m<tokenize>:34\u001B[1;36m\u001B[0m\n\u001B[1;33m    ''' df = get_nhl_playoff_standings(year)\u001B[0m\n\u001B[1;37m    ^\u001B[0m\n\u001B[1;31mIndentationError\u001B[0m\u001B[1;31m:\u001B[0m unindent does not match any outer indentation level\n"
     ]
    }
   ],
   "source": [
    "## extract all nhl data\n",
    "from dotenv import load_dotenv\n",
    "load_dotenv(override=True)\n",
    "import os\n",
    "from os.path import join\n",
    "import sys\n",
    "import time\n",
    "\n",
    "from web_scraping import web_table_to_dataframe, get_nhl_season_standings, get_all_nhl_teams, get_nhl_player_stats, get_nhl_player_goalie_stats, get_nhl_playoff_standings, get_nhl_playoff_player_stats, get_nhl_playoff_player_goalies_stats\n",
    "import pandas as pd\n",
    "\n",
    "df = get_all_nhl_teams()\n",
    "df.to_csv(join(os.environ[\"SportsTables\"], \"hockey\", f\"nhl_all_teams.csv\"), index=False)\n",
    "\n",
    "time.sleep(3)\n",
    "\n",
    "for year in range(1980,2000):\n",
    "    print(year)\n",
    "    df = get_nhl_season_standings(year)\n",
    "    df.to_csv(join(os.environ[\"SportsTables\"], \"hockey\", f\"nhl_season_standings_{year}.csv\"), index=False)\n",
    "    \n",
    "    time.sleep(3)\n",
    "\n",
    "    df = get_nhl_player_stats(year)\n",
    "    df.to_csv(join(os.environ[\"SportsTables\"], \"hockey\", f\"nhl_season_player_stats_{year}.csv\"), index=False)\n",
    "    \n",
    "    time.sleep(3)\n",
    "\n",
    "    df = get_nhl_player_goalie_stats(year)\n",
    "    df.to_csv(join(os.environ[\"SportsTables\"], \"hockey\", f\"nhl_season_player_goalie_stats_{year}.csv\"), index=False)\n",
    "    \n",
    "    time.sleep(3)\n",
    "\n",
    "    df = get_nhl_playoff_standings(year)\n",
    "    df.to_csv(join(os.environ[\"SportsTables\"], \"hockey\", f\"nhl_playoff_standings_{year}.csv\"), index=False)\n",
    "    \n",
    "    time.sleep(3)\n",
    "\n",
    "    df = get_nhl_playoff_player_stats(year)\n",
    "    df.to_csv(join(os.environ[\"SportsTables\"], \"hockey\", f\"nhl_playoff_player_stats_{year}.csv\"), index=False)\n",
    "    \n",
    "    time.sleep(3)\n",
    "\n",
    "    df = get_nhl_playoff_player_goalies_stats(year)\n",
    "    df.to_csv(join(os.environ[\"SportsTables\"], \"hockey\", f\"nhl_playoff_player_goalie_stats_{year}.csv\"), index=False)\n",
    "    \n",
    "    time.sleep(3)\n"
   ]
  },
  {
   "cell_type": "markdown",
   "metadata": {},
   "source": [
    "# Extract column headers"
   ]
  },
  {
   "cell_type": "code",
   "execution_count": 2,
   "metadata": {
    "ExecuteTime": {
     "start_time": "2023-05-08T18:14:12.274561Z",
     "end_time": "2023-05-08T18:14:13.077035Z"
    }
   },
   "outputs": [
    {
     "name": "stdout",
     "output_type": "stream",
     "text": [
      "metadata.json exists already!!! \n"
     ]
    }
   ],
   "source": [
    "import pandas as pd\n",
    "import sys\n",
    "from os.path import join\n",
    "import os\n",
    "import json\n",
    "from glob import glob\n",
    "from dotenv import load_dotenv\n",
    "load_dotenv(override=True)\n",
    "\n",
    "#ÜBERNEHMEN und tabellen hinzufügen\n",
    "metadata = {}\n",
    "\n",
    "tables = [\"all_players\", \"all_stadiums\", \"all_teams\", \"playoff_player_goalie_stats\", \"playoff_player_stats\",\n",
    "          \"playoff_standings\", \"season_player_goalie_stats\", \"season_player_stats\", \"season_standings\"]\n",
    "\n",
    "for table in tables:\n",
    "    column_names = []\n",
    "    for found_table in glob(join(os.environ[\"SportsTables\"], \"hockey\", f\"*{table}*.csv\")):\n",
    "        column_names.extend(list(pd.read_csv(found_table).columns))\n",
    "\n",
    "    column_names = list(set(column_names))\n",
    "    metadata[table] = {}\n",
    "    for column_name in column_names:\n",
    "        metadata[table][column_name] = None\n",
    "\n",
    "if os.path.isfile(\"metadata.json\"):\n",
    "    print(\"metadata.json exists already!!! \")\n",
    "else:\n",
    "    with open(\"metadata.json\", \"w\") as f:\n",
    "        json.dump(metadata, f)"
   ]
  },
  {
   "cell_type": "code",
   "execution_count": null,
   "metadata": {},
   "outputs": [],
   "source": []
  }
 ],
 "metadata": {
  "kernelspec": {
   "display_name": "Python 3.9.2 64-bit",
   "language": "python",
   "name": "python3"
  },
  "language_info": {
   "codemirror_mode": {
    "name": "ipython",
    "version": 3
   },
   "file_extension": ".py",
   "mimetype": "text/x-python",
   "name": "python",
   "nbconvert_exporter": "python",
   "pygments_lexer": "ipython3",
   "version": "3.9.2"
  },
  "orig_nbformat": 4,
  "vscode": {
   "interpreter": {
    "hash": "31f2aee4e71d21fbe5cf8b01ff0e069b9275f58929596ceb00d14d90e3e16cd6"
   }
  }
 },
 "nbformat": 4,
 "nbformat_minor": 2
}
