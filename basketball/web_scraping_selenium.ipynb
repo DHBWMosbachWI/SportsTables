{
 "cells": [
  {
   "cell_type": "code",
   "execution_count": 2,
   "metadata": {
    "collapsed": true
   },
   "outputs": [
    {
     "name": "stderr",
     "output_type": "stream",
     "text": [
      "C:\\Users\\KaroT\\AppData\\Local\\Temp/ipykernel_5724/1154343890.py:13: DeprecationWarning: executable_path has been deprecated, please pass in a Service object\n",
      "  driver = webdriver.Edge(r'../msedgedriver.exe', options=options) # ToDo better way of using driver files\n"
     ]
    },
    {
     "name": "stdout",
     "output_type": "stream",
     "text": [
      "1980\n",
      "not possible\n"
     ]
    },
    {
     "ename": "AttributeError",
     "evalue": "'NoneType' object has no attribute 'to_csv'",
     "output_type": "error",
     "traceback": [
      "\u001B[1;31m---------------------------------------------------------------------------\u001B[0m",
      "\u001B[1;31mAttributeError\u001B[0m                            Traceback (most recent call last)",
      "\u001B[1;32m~\\AppData\\Local\\Temp/ipykernel_5724/1154343890.py\u001B[0m in \u001B[0;36m<module>\u001B[1;34m\u001B[0m\n\u001B[0;32m     17\u001B[0m     \u001B[0mprint\u001B[0m\u001B[1;33m(\u001B[0m\u001B[0myear\u001B[0m\u001B[1;33m)\u001B[0m\u001B[1;33m\u001B[0m\u001B[1;33m\u001B[0m\u001B[0m\n\u001B[0;32m     18\u001B[0m     \u001B[0mdf\u001B[0m \u001B[1;33m=\u001B[0m \u001B[0mget_nba_season_team_stats\u001B[0m\u001B[1;33m(\u001B[0m\u001B[0myear\u001B[0m\u001B[1;33m,\u001B[0m \u001B[0mdriver\u001B[0m\u001B[1;33m)\u001B[0m\u001B[1;33m\u001B[0m\u001B[1;33m\u001B[0m\u001B[0m\n\u001B[1;32m---> 19\u001B[1;33m     \u001B[0mdf\u001B[0m\u001B[1;33m.\u001B[0m\u001B[0mto_csv\u001B[0m\u001B[1;33m(\u001B[0m\u001B[0mjoin\u001B[0m\u001B[1;33m(\u001B[0m\u001B[0mos\u001B[0m\u001B[1;33m.\u001B[0m\u001B[0menviron\u001B[0m\u001B[1;33m[\u001B[0m\u001B[1;34m\"SportsTables\"\u001B[0m\u001B[1;33m]\u001B[0m\u001B[1;33m,\u001B[0m \u001B[1;34m\"basketball\"\u001B[0m\u001B[1;33m,\u001B[0m \u001B[1;34mf\"nba_season_team_stats_{year}.csv\"\u001B[0m\u001B[1;33m)\u001B[0m\u001B[1;33m,\u001B[0m \u001B[0mindex\u001B[0m\u001B[1;33m=\u001B[0m\u001B[1;32mFalse\u001B[0m\u001B[1;33m)\u001B[0m\u001B[1;33m\u001B[0m\u001B[1;33m\u001B[0m\u001B[0m\n\u001B[0m\u001B[0;32m     20\u001B[0m     \u001B[0mtime\u001B[0m\u001B[1;33m.\u001B[0m\u001B[0msleep\u001B[0m\u001B[1;33m(\u001B[0m\u001B[1;36m3\u001B[0m\u001B[1;33m)\u001B[0m\u001B[1;33m\u001B[0m\u001B[1;33m\u001B[0m\u001B[0m\n\u001B[0;32m     21\u001B[0m \u001B[1;33m\u001B[0m\u001B[0m\n",
      "\u001B[1;31mAttributeError\u001B[0m: 'NoneType' object has no attribute 'to_csv'"
     ]
    }
   ],
   "source": [
    "### extract all data for nfl\n",
    "from dotenv import load_dotenv\n",
    "load_dotenv(override=True)\n",
    "import os\n",
    "from os.path import join\n",
    "import time\n",
    "from selenium import webdriver\n",
    "\n",
    "from web_scraping import web_table_to_dataframe, get_nba_season_team_stats, get_nba_season_standings, get_nba_player_stats, get_nba_coaches_stats\n",
    "\n",
    "options = webdriver.EdgeOptions()\n",
    "options.add_argument('headless')\n",
    "driver = webdriver.Edge(r'../msedgedriver.exe', options=options) # ToDo better way of using driver files\n",
    "\n",
    "for year in range(1980,2000):\n",
    "\n",
    "    print(year)\n",
    "    df = get_nba_season_team_stats(year, driver)\n",
    "    df.to_csv(join(os.environ[\"SportsTables\"], \"basketball\", f\"nba_season_team_stats_{year}.csv\"), index=False)\n",
    "    time.sleep(3)\n",
    "\n",
    "    df = get_nba_season_standings(year, driver)\n",
    "    df.to_csv(join(os.environ[\"SportsTables\"], \"basketball\", f\"nba_season_standings_{year}.csv\"), index=False)\n",
    "    time.sleep(3)\n",
    "\n",
    "    #adding missing tables with selenium\n",
    "    df = get_nba_player_stats(year, driver)\n",
    "    df[0].to_csv(join(os.environ[\"SportsTables\"], \"basketball\", f\"nba_season_player_stats_{year}.csv\"), index=False)\n",
    "    df[1].to_csv(join(os.environ[\"SportsTables\"], \"basketball\", f\"nba_season_expanded_standing_{year}.csv\"), index=False)\n",
    "    df[2].to_csv(join(os.environ[\"SportsTables\"], \"basketball\", f\"nba_season_team_vs_team_{year}.csv\"), index=False)\n",
    "    time.sleep(3)\n",
    "\n",
    "    #adding missing tables with selenium\n",
    "    df = get_nba_coaches_stats(year, driver)\n",
    "    df[0].to_csv(join(os.environ[\"SportsTables\"], \"basketball\", f\"nba_season_coaches_stats_{year}.csv\"), index=False)\n",
    "    df[1].to_csv(join(os.environ[\"SportsTables\"], \"basketball\", f\"nba_season_per_game_stats_{year}.csv\"), index=False)\n",
    "    df[2].to_csv(join(os.environ[\"SportsTables\"], \"basketball\", f\"nba_season_total_stats_team_{year}.csv\"), index=False)\n",
    "    df[3].to_csv(join(os.environ[\"SportsTables\"], \"basketball\", f\"nba_season_total_stats_opponent_{year}.csv\"), index=False)\n",
    "    df[4].to_csv(join(os.environ[\"SportsTables\"], \"basketball\", f\"nba_season_per_100_poss_stats_{year}.csv\"), index=False)\n",
    "    df[5].to_csv(join(os.environ[\"SportsTables\"], \"basketball\", f\"nba_season_advances_stats_team_{year}.csv\"), index=False)\n",
    "    df[6].to_csv(join(os.environ[\"SportsTables\"], \"basketball\", f\"nba_season_league_awards_{year}.csv\"), index=False)\n",
    "    df[7].to_csv(join(os.environ[\"SportsTables\"], \"basketball\", f\"nba_season_players_of_the_Week_Month_{year}.csv\"), index=False)\n",
    "    df[8].to_csv(join(os.environ[\"SportsTables\"], \"basketball\", f\"nba_season_league_leaders_{year}.csv\"), index=False)\n",
    "    df[9].to_csv(join(os.environ[\"SportsTables\"], \"basketball\", f\"nba_season_all_NBA_{year}.csv\"), index=False)\n",
    "    df[10].to_csv(join(os.environ[\"SportsTables\"], \"basketball\", f\"nba_season_all_defensive_{year}.csv\"), index=False)\n",
    "    df[11].to_csv(join(os.environ[\"SportsTables\"], \"basketball\", f\"nba_season_all_rookie_{year}.csv\"), index=False)\n",
    "    df[12].to_csv(join(os.environ[\"SportsTables\"], \"basketball\", f\"nba_season_all_star_game_rosters_{year}.csv\"), index=False)\n",
    "    time.sleep(3)\n",
    "\n",
    "driver.quit()"
   ]
  },
  {
   "cell_type": "code",
   "execution_count": null,
   "outputs": [],
   "source": [],
   "metadata": {
    "collapsed": false
   }
  }
 ],
 "metadata": {
  "kernelspec": {
   "display_name": "Python 3",
   "language": "python",
   "name": "python3"
  },
  "language_info": {
   "codemirror_mode": {
    "name": "ipython",
    "version": 2
   },
   "file_extension": ".py",
   "mimetype": "text/x-python",
   "name": "python",
   "nbconvert_exporter": "python",
   "pygments_lexer": "ipython2",
   "version": "2.7.6"
  }
 },
 "nbformat": 4,
 "nbformat_minor": 0
}
