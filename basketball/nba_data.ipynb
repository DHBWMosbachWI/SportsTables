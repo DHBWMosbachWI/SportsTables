{
 "cells": [
  {
   "cell_type": "code",
   "execution_count": 48,
   "metadata": {},
   "outputs": [],
   "source": [
    "import requests\n",
    "import pandas as pd\n",
    "import json\n",
    "import os\n",
    "from os.path import join\n",
    "import sys\n",
    "\n",
    "from dotenv import load_dotenv\n",
    "load_dotenv(override=True)\n",
    "DATA_DIR = os.environ[\"DATA_DIR\"]\n",
    "\n",
    "api_key = \"5b7c8351938147e796afa0695194d3ab\"\n",
    "sport = \"nba\"\n",
    "base_url = f\"https://api.sportsdata.io/v3/{sport}\""
   ]
  },
  {
   "cell_type": "code",
   "execution_count": 45,
   "metadata": {},
   "outputs": [],
   "source": [
    "def get_json_data_from_url_and_return_as_dataframe(url):\n",
    "    ## get data from api\n",
    "    headers = {\"Ocp-Apim-Subscription-Key\": f\"{api_key}\"}\n",
    "    print(url)\n",
    "    json_data = requests.get(\n",
    "        url, headers=headers).json()\n",
    "\n",
    "    ## transdorm into a dataframe\n",
    "    df = pd.json_normalize(json_data)\n",
    "\n",
    "    return df"
   ]
  },
  {
   "cell_type": "code",
   "execution_count": 38,
   "metadata": {},
   "outputs": [],
   "source": [
    "#### get Players Table\n",
    "df_results = get_json_data_from_url_and_return_as_dataframe(f\"{base_url}/scores/json/Players\")\n",
    "df_results.to_csv(join(DATA_DIR,sport,\"Players.csv\"), index=False)"
   ]
  },
  {
   "cell_type": "code",
   "execution_count": 39,
   "metadata": {},
   "outputs": [],
   "source": [
    "#### get Teams Table\n",
    "df_results = get_json_data_from_url_and_return_as_dataframe(f\"{base_url}/scores/json/AllTeams\")\n",
    "df_results.to_csv(join(DATA_DIR,sport,\"AllTeams.csv\"), index=False)\n",
    "\n",
    "#### get Teams (Active)\n",
    "df_results = get_json_data_from_url_and_return_as_dataframe(f\"{base_url}/scores/json/teams\")\n",
    "df_results.to_csv(join(DATA_DIR,sport,\"Teams_acitve.csv\"), index=False)"
   ]
  },
  {
   "cell_type": "code",
   "execution_count": 40,
   "metadata": {},
   "outputs": [],
   "source": [
    "#### get Stadiums \n",
    "df_results = get_json_data_from_url_and_return_as_dataframe(f\"{base_url}/scores/json/Stadiums\")\n",
    "df_results.to_csv(join(DATA_DIR,sport,\"Stadiums.csv\"), index=False)"
   ]
  },
  {
   "cell_type": "code",
   "execution_count": 41,
   "metadata": {},
   "outputs": [],
   "source": [
    "### get Referees\n",
    "df_results = get_json_data_from_url_and_return_as_dataframe(f\"{base_url}/scores/json/Referees\")\n",
    "df_results.to_csv(join(DATA_DIR,sport,\"Referess.csv\"), index=False)"
   ]
  },
  {
   "cell_type": "code",
   "execution_count": 42,
   "metadata": {},
   "outputs": [],
   "source": [
    "#### get Standing Tables of different Seasons\n",
    "for year in range(2020,2023,1):\n",
    "    df_results = get_json_data_from_url_and_return_as_dataframe(f\"{base_url}/scores/json/Standings/{year}\")\n",
    "    df_results.to_csv(join(DATA_DIR,sport,f\"Standings_{year}.csv\"), index=False)"
   ]
  },
  {
   "cell_type": "code",
   "execution_count": 43,
   "metadata": {},
   "outputs": [],
   "source": [
    "### get TeamSeasonStats of different Seasons\n",
    "for year in range(2022,2023,1):\n",
    "    df_results = get_json_data_from_url_and_return_as_dataframe(f\"{base_url}/scores/json/TeamSeasonStats/{year}\")\n",
    "    df_results.to_csv(join(DATA_DIR,sport,f\"TeamSeasonStats_{year}.csv\"), index=False)"
   ]
  },
  {
   "cell_type": "code",
   "execution_count": 50,
   "metadata": {},
   "outputs": [
    {
     "name": "stdout",
     "output_type": "stream",
     "text": [
      "https://api.sportsdata.io/v3/nba/stats/json/PlayerSeasonStats/2022\n"
     ]
    }
   ],
   "source": [
    "### get PlayerSeasonStats of different Seasons\n",
    "for year in range(2022,2023,1):\n",
    "    df_results = get_json_data_from_url_and_return_as_dataframe(f\"{base_url}/stats/json/PlayerSeasonStats/{year}\")\n",
    "    df_results.to_csv(join(DATA_DIR,sport,f\"PlayerSeasonStats_{year}.csv\"), index=False)"
   ]
  }
 ],
 "metadata": {
  "kernelspec": {
   "display_name": "Python 3.9.2 64-bit",
   "language": "python",
   "name": "python3"
  },
  "language_info": {
   "codemirror_mode": {
    "name": "ipython",
    "version": 3
   },
   "file_extension": ".py",
   "mimetype": "text/x-python",
   "name": "python",
   "nbconvert_exporter": "python",
   "pygments_lexer": "ipython3",
   "version": "3.9.2"
  },
  "orig_nbformat": 4,
  "vscode": {
   "interpreter": {
    "hash": "31f2aee4e71d21fbe5cf8b01ff0e069b9275f58929596ceb00d14d90e3e16cd6"
   }
  }
 },
 "nbformat": 4,
 "nbformat_minor": 2
}
