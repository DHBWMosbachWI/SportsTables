{
 "cells": [
  {
   "cell_type": "markdown",
   "metadata": {},
   "source": [
    "# Web-Scraping"
   ]
  },
  {
   "cell_type": "code",
   "execution_count": 1,
   "metadata": {},
   "outputs": [
    {
     "ename": "NameError",
     "evalue": "name 'driver' is not defined",
     "output_type": "error",
     "traceback": [
      "\u001B[1;31m---------------------------------------------------------------------------\u001B[0m",
      "\u001B[1;31mNameError\u001B[0m                                 Traceback (most recent call last)",
      "\u001B[1;32m~\\AppData\\Local\\Temp/ipykernel_7420/1435412782.py\u001B[0m in \u001B[0;36m<module>\u001B[1;34m\u001B[0m\n\u001B[0;32m     12\u001B[0m \u001B[1;33m\u001B[0m\u001B[0m\n\u001B[0;32m     13\u001B[0m \u001B[1;32mfor\u001B[0m \u001B[0myear\u001B[0m \u001B[1;32min\u001B[0m \u001B[0mrange\u001B[0m\u001B[1;33m(\u001B[0m\u001B[1;36m1980\u001B[0m\u001B[1;33m,\u001B[0m\u001B[1;36m2000\u001B[0m\u001B[1;33m)\u001B[0m\u001B[1;33m:\u001B[0m\u001B[1;33m\u001B[0m\u001B[1;33m\u001B[0m\u001B[0m\n\u001B[1;32m---> 14\u001B[1;33m     \u001B[0mdf\u001B[0m \u001B[1;33m=\u001B[0m \u001B[0mget_nba_season_team_stats\u001B[0m\u001B[1;33m(\u001B[0m\u001B[0myear\u001B[0m\u001B[1;33m,\u001B[0m \u001B[0mdriver\u001B[0m\u001B[1;33m)\u001B[0m\u001B[1;33m\u001B[0m\u001B[1;33m\u001B[0m\u001B[0m\n\u001B[0m\u001B[0;32m     15\u001B[0m     \u001B[0mdf\u001B[0m\u001B[1;33m.\u001B[0m\u001B[0mto_csv\u001B[0m\u001B[1;33m(\u001B[0m\u001B[0mjoin\u001B[0m\u001B[1;33m(\u001B[0m\u001B[0mos\u001B[0m\u001B[1;33m.\u001B[0m\u001B[0menviron\u001B[0m\u001B[1;33m[\u001B[0m\u001B[1;34m\"SportsTables\"\u001B[0m\u001B[1;33m]\u001B[0m\u001B[1;33m,\u001B[0m \u001B[1;34m\"basketball\"\u001B[0m\u001B[1;33m,\u001B[0m \u001B[1;34mf\"nba_season_team_stats_{year}.csv\"\u001B[0m\u001B[1;33m)\u001B[0m\u001B[1;33m,\u001B[0m \u001B[0mindex\u001B[0m\u001B[1;33m=\u001B[0m\u001B[1;32mFalse\u001B[0m\u001B[1;33m)\u001B[0m\u001B[1;33m\u001B[0m\u001B[1;33m\u001B[0m\u001B[0m\n\u001B[0;32m     16\u001B[0m     \u001B[0mtime\u001B[0m\u001B[1;33m.\u001B[0m\u001B[0msleep\u001B[0m\u001B[1;33m(\u001B[0m\u001B[1;36m3\u001B[0m\u001B[1;33m)\u001B[0m\u001B[1;33m\u001B[0m\u001B[1;33m\u001B[0m\u001B[0m\n",
      "\u001B[1;31mNameError\u001B[0m: name 'driver' is not defined"
     ]
    }
   ],
   "source": [
    "## extract all data\n",
    "from dotenv import load_dotenv\n",
    "load_dotenv(override=True)\n",
    "import os\n",
    "from os.path import join\n",
    "import sys\n",
    "import time\n",
    "from selenium import webdriver\n",
    "\n",
    "from web_scraping import web_table_to_dataframe, get_nba_season_team_stats, get_nba_season_standings, get_nba_player_stats, get_nba_coaches_stats\n",
    "import pandas as pd\n",
    "\n",
    "for year in range(1980,2000):\n",
    "    df = get_nba_season_team_stats(year, driver)\n",
    "    df.to_csv(join(os.environ[\"SportsTables\"], \"basketball\", f\"nba_season_team_stats_{year}.csv\"), index=False)\n",
    "    time.sleep(3)\n",
    "    \n",
    "    df = get_nba_season_standings(year)\n",
    "    df.to_csv(join(os.environ[\"SportsTables\"], \"basketball\", f\"nba_season_standings_{year}.csv\"), index=False)\n",
    "    time.sleep(3)\n",
    "    \n",
    "    df = get_nba_player_stats(year)\n",
    "    df.to_csv(join(os.environ[\"SportsTables\"], \"basketball\", f\"nba_season_player_stats_{year}.csv\"), index=False)\n",
    "    time.sleep(3)\n",
    "    \n",
    "    df = get_nba_coaches_stats(year)\n",
    "    df.to_csv(join(os.environ[\"SportsTables\"], \"basketball\", f\"nba_season_coaches_stats_{year}.csv\"), index=False)\n",
    "    \n",
    "    time.sleep(3)"
   ]
  },
  {
   "cell_type": "markdown",
   "metadata": {},
   "source": [
    "# Extract column headers"
   ]
  },
  {
   "cell_type": "code",
   "execution_count": 2,
   "metadata": {},
   "outputs": [],
   "source": [
    "import pandas as pd\n",
    "import sys\n",
    "from os.path import join\n",
    "import os\n",
    "import json\n",
    "from glob import glob\n",
    "from dotenv import load_dotenv\n",
    "load_dotenv(override=True)\n",
    "\n",
    "\n",
    "metadata = {}\n",
    "\n",
    "tables = [\"coaches_stats\", \"player_stats\", \"season_standings\", \"team_stats\", \"all_teams\", \"all_players\",\n",
    "          \"all_referees\", \"all_stadiums\"]\n",
    "\n",
    "for table in tables:\n",
    "    column_names = []\n",
    "    for found_table in glob(join(os.environ[\"SportsTables\"], \"basketball\", f\"*{table}*.csv\")):\n",
    "        column_names.extend(list(pd.read_csv(found_table).columns))\n",
    "\n",
    "    column_names = list(set(column_names))\n",
    "    metadata[table] = {}\n",
    "    for column_name in column_names:\n",
    "        metadata[table][column_name] = None\n",
    "\n",
    "if os.path.isfile(\"metadata.json\"):\n",
    "    print(\"metadata.json exists already!!! \")\n",
    "else:\n",
    "    with open(\"metadata.json\", \"w\") as f:\n",
    "        json.dump(metadata, f)"
   ]
  },
  {
   "cell_type": "code",
   "execution_count": null,
   "metadata": {},
   "outputs": [],
   "source": []
  }
 ],
 "metadata": {
  "kernelspec": {
   "display_name": "Python 3.9.2 64-bit",
   "language": "python",
   "name": "python3"
  },
  "language_info": {
   "codemirror_mode": {
    "name": "ipython",
    "version": 3
   },
   "file_extension": ".py",
   "mimetype": "text/x-python",
   "name": "python",
   "nbconvert_exporter": "python",
   "pygments_lexer": "ipython3",
   "version": "3.9.2"
  },
  "orig_nbformat": 4,
  "vscode": {
   "interpreter": {
    "hash": "31f2aee4e71d21fbe5cf8b01ff0e069b9275f58929596ceb00d14d90e3e16cd6"
   }
  }
 },
 "nbformat": 4,
 "nbformat_minor": 2
}
