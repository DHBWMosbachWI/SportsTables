{
 "cells": [
  {
   "cell_type": "code",
   "execution_count": 25,
   "metadata": {},
   "outputs": [],
   "source": [
    "import requests\n",
    "from bs4 import BeautifulSoup"
   ]
  },
  {
   "cell_type": "code",
   "execution_count": 26,
   "metadata": {},
   "outputs": [],
   "source": [
    "response = requests.get(\"https://fbref.com/en/comps/\")\n",
    "soup = BeautifulSoup(response.content, \"html.parser\")\n"
   ]
  },
  {
   "cell_type": "code",
   "execution_count": 30,
   "metadata": {},
   "outputs": [
    {
     "data": {
      "text/plain": [
       "[{'league_name': 'Premier League',\n",
       "  'league_stats_name': 'Premier-League-Stats',\n",
       "  'league_id': '9'},\n",
       " {'league_name': 'La Liga',\n",
       "  'league_stats_name': 'La-Liga-Stats',\n",
       "  'league_id': '12'},\n",
       " {'league_name': 'Ligue 1',\n",
       "  'league_stats_name': 'Ligue-1-Stats',\n",
       "  'league_id': '13'},\n",
       " {'league_name': 'Fußball-Bundesliga',\n",
       "  'league_stats_name': 'Bundesliga-Stats',\n",
       "  'league_id': '20'},\n",
       " {'league_name': 'Serie A',\n",
       "  'league_stats_name': 'Serie-A-Stats',\n",
       "  'league_id': '11'},\n",
       " {'league_name': 'Big 5 European Leagues Combined',\n",
       "  'league_stats_name': 'Big-5-European-Leagues-Stats',\n",
       "  'league_id': 'Big5'}]"
      ]
     },
     "execution_count": 30,
     "metadata": {},
     "output_type": "execute_result"
    }
   ],
   "source": [
    "big5_table = soup(\"table\")[2]\n",
    "soccer_leagues = []\n",
    "for row in big5_table.find(\"tbody\")(\"tr\"):\n",
    "    soccer_leagues.append({\n",
    "        \"league_name\":row.find(\"th\").get_text(),\n",
    "        \"league_stats_name\": row(\"td\")[-2].find(\"a\")[\"href\"].split(\"/\")[-1], \n",
    "        \"league_id\":row(\"td\")[-2].find(\"a\")[\"href\"].split(\"/\")[3]\n",
    "        })\n",
    "    \n",
    "soccer_leagues"
   ]
  },
  {
   "cell_type": "code",
   "execution_count": 4,
   "metadata": {},
   "outputs": [
    {
     "name": "stdout",
     "output_type": "stream",
     "text": [
      "https://fbref.com/en/squads/b8fd03ef/2021-2022/Manchester-City-Stats\n",
      "https://fbref.com/en/squads/822bd0ba/2021-2022/Liverpool-Stats\n",
      "https://fbref.com/en/squads/cff3d9bb/2021-2022/Chelsea-Stats\n",
      "https://fbref.com/en/squads/361ca564/2021-2022/Tottenham-Hotspur-Stats\n",
      "https://fbref.com/en/squads/18bb7c10/2021-2022/Arsenal-Stats\n",
      "https://fbref.com/en/squads/19538871/2021-2022/Manchester-United-Stats\n",
      "https://fbref.com/en/squads/7c21e445/2021-2022/West-Ham-United-Stats\n",
      "https://fbref.com/en/squads/a2d435b3/2021-2022/Leicester-City-Stats\n",
      "https://fbref.com/en/squads/d07537b9/2021-2022/Brighton-and-Hove-Albion-Stats\n",
      "https://fbref.com/en/squads/8cec06e1/2021-2022/Wolverhampton-Wanderers-Stats\n",
      "https://fbref.com/en/squads/b2b47a98/2021-2022/Newcastle-United-Stats\n",
      "https://fbref.com/en/squads/47c64c55/2021-2022/Crystal-Palace-Stats\n",
      "https://fbref.com/en/squads/cd051869/2021-2022/Brentford-Stats\n",
      "https://fbref.com/en/squads/8602292d/2021-2022/Aston-Villa-Stats\n",
      "https://fbref.com/en/squads/33c895d4/2021-2022/Southampton-Stats\n",
      "https://fbref.com/en/squads/d3fd31cc/2021-2022/Everton-Stats\n",
      "https://fbref.com/en/squads/5bfb9659/2021-2022/Leeds-United-Stats\n",
      "https://fbref.com/en/squads/943e8050/2021-2022/Burnley-Stats\n",
      "https://fbref.com/en/squads/2abfe087/2021-2022/Watford-Stats\n",
      "https://fbref.com/en/squads/1c781004/2021-2022/Norwich-City-Stats\n",
      "https://fbref.com/en/squads/53a2f082/2021-2022/Real-Madrid-Stats\n",
      "https://fbref.com/en/squads/206d90db/2021-2022/Barcelona-Stats\n",
      "https://fbref.com/en/squads/db3b9613/2021-2022/Atletico-Madrid-Stats\n",
      "https://fbref.com/en/squads/ad2be733/2021-2022/Sevilla-Stats\n",
      "https://fbref.com/en/squads/fc536746/2021-2022/Real-Betis-Stats\n",
      "https://fbref.com/en/squads/e31d1cd9/2021-2022/Real-Sociedad-Stats\n",
      "https://fbref.com/en/squads/2a8183b3/2021-2022/Villarreal-Stats\n",
      "https://fbref.com/en/squads/2b390eca/2021-2022/Athletic-Club-Stats\n",
      "https://fbref.com/en/squads/dcc91a7b/2021-2022/Valencia-Stats\n",
      "https://fbref.com/en/squads/03c57e2b/2021-2022/Osasuna-Stats\n",
      "https://fbref.com/en/squads/f25da7fb/2021-2022/Celta-Vigo-Stats\n",
      "https://fbref.com/en/squads/98e8af82/2021-2022/Rayo-Vallecano-Stats\n",
      "https://fbref.com/en/squads/6c8b07df/2021-2022/Elche-Stats\n",
      "https://fbref.com/en/squads/a8661628/2021-2022/Espanyol-Stats\n",
      "https://fbref.com/en/squads/7848bd64/2021-2022/Getafe-Stats\n",
      "https://fbref.com/en/squads/2aa12281/2021-2022/Mallorca-Stats\n",
      "https://fbref.com/en/squads/ee7c297c/2021-2022/Cadiz-Stats\n",
      "https://fbref.com/en/squads/a0435291/2021-2022/Granada-Stats\n",
      "https://fbref.com/en/squads/9800b6a1/2021-2022/Levante-Stats\n",
      "https://fbref.com/en/squads/8d6fd021/2021-2022/Alaves-Stats\n",
      "https://fbref.com/en/squads/e2d8892c/2021-2022/Paris-Saint-Germain-Stats\n",
      "https://fbref.com/en/squads/5725cc7b/2021-2022/Marseille-Stats\n",
      "https://fbref.com/en/squads/fd6114db/2021-2022/Monaco-Stats\n",
      "https://fbref.com/en/squads/b3072e00/2021-2022/Rennes-Stats\n",
      "https://fbref.com/en/squads/132ebc33/2021-2022/Nice-Stats\n",
      "https://fbref.com/en/squads/c0d3eab4/2021-2022/Strasbourg-Stats\n",
      "https://fbref.com/en/squads/fd4e0f7d/2021-2022/Lens-Stats\n",
      "https://fbref.com/en/squads/d53c0b06/2021-2022/Lyon-Stats\n",
      "https://fbref.com/en/squads/d7a486cd/2021-2022/Nantes-Stats\n",
      "https://fbref.com/en/squads/cb188c0c/2021-2022/Lille-Stats\n",
      "https://fbref.com/en/squads/fb08dbb3/2021-2022/Brest-Stats\n",
      "https://fbref.com/en/squads/7fdd64e0/2021-2022/Reims-Stats\n",
      "https://fbref.com/en/squads/281b0e73/2021-2022/Montpellier-Stats\n",
      "https://fbref.com/en/squads/69236f98/2021-2022/Angers-Stats\n",
      "https://fbref.com/en/squads/54195385/2021-2022/Troyes-Stats\n",
      "https://fbref.com/en/squads/d2c87802/2021-2022/Lorient-Stats\n",
      "https://fbref.com/en/squads/d9676424/2021-2022/Clermont-Foot-Stats\n",
      "https://fbref.com/en/squads/d298ef2c/2021-2022/Saint-Etienne-Stats\n",
      "https://fbref.com/en/squads/f83960ae/2021-2022/Metz-Stats\n",
      "https://fbref.com/en/squads/123f3efe/2021-2022/Bordeaux-Stats\n",
      "https://fbref.com/en/squads/dc56fe14/2021-2022/Milan-Stats\n",
      "https://fbref.com/en/squads/d609edc0/2021-2022/Internazionale-Stats\n",
      "https://fbref.com/en/squads/d48ad4ff/2021-2022/Napoli-Stats\n",
      "https://fbref.com/en/squads/e0652b02/2021-2022/Juventus-Stats\n",
      "https://fbref.com/en/squads/7213da33/2021-2022/Lazio-Stats\n",
      "https://fbref.com/en/squads/cf74a709/2021-2022/Roma-Stats\n",
      "https://fbref.com/en/squads/421387cf/2021-2022/Fiorentina-Stats\n",
      "https://fbref.com/en/squads/922493f3/2021-2022/Atalanta-Stats\n",
      "https://fbref.com/en/squads/0e72edf2/2021-2022/Hellas-Verona-Stats\n",
      "https://fbref.com/en/squads/105360fe/2021-2022/Torino-Stats\n",
      "https://fbref.com/en/squads/e2befd26/2021-2022/Sassuolo-Stats\n",
      "https://fbref.com/en/squads/04eea015/2021-2022/Udinese-Stats\n",
      "https://fbref.com/en/squads/1d8099f8/2021-2022/Bologna-Stats\n",
      "https://fbref.com/en/squads/a3d88bd8/2021-2022/Empoli-Stats\n",
      "https://fbref.com/en/squads/8ff9e3b3/2021-2022/Sampdoria-Stats\n",
      "https://fbref.com/en/squads/68449f6d/2021-2022/Spezia-Stats\n",
      "https://fbref.com/en/squads/c5577084/2021-2022/Salernitana-Stats\n",
      "https://fbref.com/en/squads/c4260e09/2021-2022/Cagliari-Stats\n",
      "https://fbref.com/en/squads/658bf2de/2021-2022/Genoa-Stats\n",
      "https://fbref.com/en/squads/af5d5982/2021-2022/Venezia-Stats\n"
     ]
    }
   ],
   "source": [
    "from dotenv import load_dotenv\n",
    "load_dotenv(override=True)\n",
    "import os\n",
    "from os.path import join\n",
    "import sys\n",
    "import time\n",
    "\n",
    "from web_scraping import get_soccer_leagues_ids, get_soccer_league_season_standings, get_soccer_teams_url, get_player_season_stats\n",
    "\n",
    "current_season = 2022\n",
    "soccer_league_ids = get_soccer_leagues_ids()\n",
    "\n",
    "for year in range(2021,2022):\n",
    "    for soccer_league_id in soccer_league_ids:\n",
    "        if soccer_league_id[\"league_name\"] == \"Fußball-Bundesliga\" or soccer_league_id[\"league_name\"] == \"Big 5 European Leagues Combined\":\n",
    "            continue\n",
    "        # get season standings\n",
    "        df = get_soccer_league_season_standings(year, current_season, soccer_league_id[\"league_id\"], soccer_league_id[\"league_stats_name\"])\n",
    "        df.to_csv(join(os.environ[\"SportsDB\"], \"soccer\", f\"{soccer_league_id['league_name'].replace(' ','-')}_season_standings_{year}.csv\"), index=False)\n",
    "        \n",
    "        \n",
    "        # get player stats\n",
    "        df = get_player_season_stats(year, current_season, soccer_league_id[\"league_id\"], soccer_league_id[\"league_stats_name\"])\n",
    "        df.to_csv(join(os.environ[\"SportsDB\"], \"soccer\", f\"{soccer_league_id['league_name'].replace(' ','-')}_player_stats_{year}.csv\"), index=False)\n",
    "    \n",
    "        time.sleep(3)\n",
    "    "
   ]
  },
  {
   "cell_type": "code",
   "execution_count": null,
   "metadata": {},
   "outputs": [],
   "source": []
  }
 ],
 "metadata": {
  "kernelspec": {
   "display_name": "Python 3.9.2 64-bit",
   "language": "python",
   "name": "python3"
  },
  "language_info": {
   "codemirror_mode": {
    "name": "ipython",
    "version": 3
   },
   "file_extension": ".py",
   "mimetype": "text/x-python",
   "name": "python",
   "nbconvert_exporter": "python",
   "pygments_lexer": "ipython3",
   "version": "3.9.2"
  },
  "orig_nbformat": 4,
  "vscode": {
   "interpreter": {
    "hash": "31f2aee4e71d21fbe5cf8b01ff0e069b9275f58929596ceb00d14d90e3e16cd6"
   }
  }
 },
 "nbformat": 4,
 "nbformat_minor": 2
}
