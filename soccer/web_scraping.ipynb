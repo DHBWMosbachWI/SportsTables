{
 "cells": [
  {
   "cell_type": "markdown",
   "metadata": {},
   "source": [
    "# Web-Scraping"
   ]
  },
  {
   "cell_type": "code",
   "execution_count": null,
   "metadata": {},
   "outputs": [],
   "source": [
    "### extract all soccer data\n",
    "\n",
    "from dotenv import load_dotenv\n",
    "load_dotenv(override=True)\n",
    "import os\n",
    "from os.path import join\n",
    "import sys\n",
    "import time\n",
    "\n",
    "from web_scraping import get_soccer_leagues_ids, get_soccer_league_season_standings, get_soccer_teams_url, get_player_season_stats\n",
    "\n",
    "current_season = 2022\n",
    "soccer_league_ids = get_soccer_leagues_ids()\n",
    "\n",
    "for year in range(1982,2000):\n",
    "    print(year)\n",
    "    try:\n",
    "        for soccer_league_id in soccer_league_ids:\n",
    "            if soccer_league_id[\"league_name\"] == \"Fußball-Bundesliga\" or soccer_league_id[\"league_name\"] == \"Big 5 European Leagues Combined\":\n",
    "                continue\n",
    "            # get season standings\n",
    "            df = get_soccer_league_season_standings(year, current_season, soccer_league_id[\"league_id\"], soccer_league_id[\"league_stats_name\"])\n",
    "            df.to_csv(join(os.environ[\"SportsTables\"], \"soccer\", f\"{soccer_league_id['league_name'].replace(' ','-')}_season_standings_{year}.csv\"), index=False)\n",
    "            \n",
    "            \n",
    "            # get player stats\n",
    "            df = get_player_season_stats(year, current_season, soccer_league_id[\"league_id\"], soccer_league_id[\"league_stats_name\"])\n",
    "            df.to_csv(join(os.environ[\"SportsTables\"], \"soccer\", f\"{soccer_league_id['league_name'].replace(' ','-')}_player_stats_{year}.csv\"), index=False)\n",
    "        \n",
    "            time.sleep(3)\n",
    "    except:\n",
    "        print(\"not possible\")\n",
    "        continue\n",
    "    "
   ]
  },
  {
   "cell_type": "markdown",
   "metadata": {},
   "source": [
    "# Extract column headers from different tables"
   ]
  },
  {
   "cell_type": "code",
   "execution_count": null,
   "metadata": {},
   "outputs": [],
   "source": [
    "import json\n",
    "from glob import glob\n",
    "from dotenv import load_dotenv\n",
    "load_dotenv(override=True)\n",
    "\n",
    "import os\n",
    "from os.path import join\n",
    "import sys\n",
    "import pandas as pd\n",
    "\n",
    "metadata = {}\n",
    "\n",
    "tables = [\"player_stats\", \"season_standings\"]\n",
    "\n",
    "for table in tables:\n",
    "    column_names = []\n",
    "    for found_table in glob(join(os.environ[\"SportsTables\"], \"soccer\", f\"*{table}_*.csv\")):\n",
    "        column_names.extend(list(pd.read_csv(found_table).columns))\n",
    "    \n",
    "    column_names = list(set(column_names))\n",
    "    metadata[table] = {}\n",
    "    for column_name in column_names:\n",
    "        metadata[table][column_name] = None\n",
    "    \n",
    "if os.path.isfile(\"metadata.json\"):\n",
    "    print(\"metadata.json exists already!!! \")\n",
    "else:\n",
    "    with open(\"metadata.json\", \"w\") as f:\n",
    "        json.dump(metadata, f)"
   ]
  },
  {
   "cell_type": "markdown",
   "metadata": {},
   "source": [
    "# Extract valid header file"
   ]
  },
  {
   "cell_type": "code",
   "execution_count": null,
   "metadata": {},
   "outputs": [],
   "source": [
    "import json\n",
    "from glob import glob\n",
    "import os \n",
    "os.environ[\"SPORTS_DB\"] = \"/ext/daten-wi/slangenecker/SportsTables\"\n",
    "from os.path import join\n",
    "import pandas as pd\n",
    "\n",
    "def get_sportsDB_soccer_type_mappings():\n",
    "    with open(join(os.environ[\"SPORTS_DB\"], \"Soccer\", \"Soccer-Relations.json\"), \"r\") as f:\n",
    "        type_mappings = json.load(f)[\"soccer-big5Leagues-Players-2021-2022.csv\"][\"columns\"][0]\n",
    "        return type_mappings\n",
    "\n",
    "\n",
    "def get_all_sportsDB_soccer_tables(only_file_names:bool=False):\n",
    "    result = glob(join(os.environ[\"SPORTS_DB\"], \"Soccer\", \"soccerPlayerScraping\", \"*.csv\"))\n",
    "    if only_file_names:\n",
    "        return [table.split(\"/\")[-1] for table in result]\n",
    "    else:\n",
    "        return result\n",
    "\n",
    "def load_sportsDB_soccer_table(table_name:str, only_headers:bool=False):\n",
    "    df = pd.read_csv(join(os.environ[\"SPORTS_DB\"], \"Soccer\", \"soccerPlayerScraping\", table_name))\n",
    "    if only_headers:\n",
    "        return df.columns\n",
    "    else:\n",
    "        return df"
   ]
  },
  {
   "cell_type": "code",
   "execution_count": null,
   "metadata": {},
   "outputs": [],
   "source": [
    "col_name_to_sem_type = get_sportsDB_soccer_type_mappings()\n",
    "\n",
    "results = {}\n",
    "for table in get_all_sportsDB_soccer_tables(True):\n",
    "    print(table)\n",
    "    results[table.split(\".csv\")[0]] = {}\n",
    "    col_names = load_sportsDB_soccer_table(table, True)\n",
    "    for col_num, col_name in enumerate(col_names):\n",
    "        try:\n",
    "            results[table.split(\".csv\")[0]][f\"column_{col_num}\"] = { \"semanticType\": col_name_to_sem_type[col_name]}\n",
    "        except:\n",
    "            print(col_name)\n",
    "    \n",
    "with open(join(os.environ[\"SPORTS_DB\"], \"Soccer\", \"sportsDB_type_sportsDB.json\"), \"w\") as f:\n",
    "    json.dump(results, f)"
   ]
  },
  {
   "cell_type": "code",
   "execution_count": null,
   "metadata": {},
   "outputs": [],
   "source": []
  }
 ],
 "metadata": {
  "kernelspec": {
   "display_name": "Python 3.9.2 64-bit",
   "language": "python",
   "name": "python3"
  },
  "language_info": {
   "codemirror_mode": {
    "name": "ipython",
    "version": 3
   },
   "file_extension": ".py",
   "mimetype": "text/x-python",
   "name": "python",
   "nbconvert_exporter": "python",
   "pygments_lexer": "ipython3",
   "version": "3.9.2"
  },
  "orig_nbformat": 4,
  "vscode": {
   "interpreter": {
    "hash": "31f2aee4e71d21fbe5cf8b01ff0e069b9275f58929596ceb00d14d90e3e16cd6"
   }
  }
 },
 "nbformat": 4,
 "nbformat_minor": 2
}
