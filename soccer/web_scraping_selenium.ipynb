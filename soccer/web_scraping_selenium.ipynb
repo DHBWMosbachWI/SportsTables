{
 "cells": [
  {
   "cell_type": "code",
   "execution_count": 6,
   "metadata": {
    "collapsed": true,
    "ExecuteTime": {
     "start_time": "2023-05-01T17:24:18.694940Z",
     "end_time": "2023-05-01T17:27:26.238681Z"
    }
   },
   "outputs": [
    {
     "name": "stdout",
     "output_type": "stream",
     "text": [
      "\n",
      "1982\n",
      "not possible\n",
      "1983\n",
      "not possible\n",
      "1984\n",
      "not possible\n",
      "1985\n",
      "not possible\n",
      "1986\n",
      "not possible\n",
      "1987\n",
      "not possible\n",
      "1988\n",
      "not possible\n",
      "1989\n",
      "not possible\n",
      "1990\n",
      "not possible\n",
      "1991\n",
      "not possible\n",
      "1992\n",
      "not possible\n",
      "1993\n",
      "not possible\n",
      "1994\n",
      "not possible\n",
      "1995\n",
      "1996\n",
      "1997\n",
      "1998\n",
      "1999\n"
     ]
    }
   ],
   "source": [
    "import pandas as pd\n",
    "import time\n",
    "from os.path import join\n",
    "from selenium import webdriver\n",
    "from bs4 import BeautifulSoup\n",
    "import os\n",
    "\n",
    "from web_scraping import get_soccer_leagues_ids, get_soccer_league_season_standings, get_soccer_teams_url, get_player_season_stats\n",
    "\n",
    "browser = webdriver.Chrome()\n",
    "#browser.get('https://fbref.com/en/comps/')\n",
    "#browser.get('https://fbref.com/en/comps/9/1997-1998/1997-1998-Premier-League-Stats')\n",
    "print(browser.title)\n",
    "\n",
    "current_season = 2022\n",
    "soccer_league_ids = get_soccer_leagues_ids()\n",
    "\n",
    "for year in range(1982,2000):\n",
    "    print(year)\n",
    "    try:\n",
    "        for soccer_league_id in soccer_league_ids:\n",
    "            if soccer_league_id[\"league_name\"] == \"Fußball-Bundesliga\" or soccer_league_id[\"league_name\"] == \"Big 5 European Leagues Combined\":\n",
    "                continue\n",
    "            # get season standings\n",
    "            df = get_soccer_league_season_standings(year, current_season, soccer_league_id[\"league_id\"], soccer_league_id[\"league_stats_name\"])\n",
    "            df.to_csv(join(os.environ[\"SportsTables\"], \"soccer\", f\"{soccer_league_id['league_name'].replace(' ','-')}_season_standings_selenium{year}.csv\"), index=False)\n",
    "\n",
    "\n",
    "            time.sleep(3)\n",
    "    except:\n",
    "        print(\"not possible\")\n",
    "        continue\n"
   ]
  },
  {
   "cell_type": "code",
   "execution_count": 7,
   "outputs": [
    {
     "name": "stdout",
     "output_type": "stream",
     "text": [
      "metadata.json exists already!!! \n"
     ]
    }
   ],
   "source": [
    "import json\n",
    "from glob import glob\n",
    "from dotenv import load_dotenv\n",
    "load_dotenv(override=True)\n",
    "\n",
    "import os\n",
    "from os.path import join\n",
    "import sys\n",
    "import pandas as pd\n",
    "\n",
    "metadata = {}\n",
    "\n",
    "tables = [\"player_stats\", \"season_standings\"]\n",
    "\n",
    "for table in tables:\n",
    "    column_names = []\n",
    "    for found_table in glob(join(os.environ[\"SportsTables\"], \"soccer\", f\"*{table}_*.csv\")):\n",
    "        column_names.extend(list(pd.read_csv(found_table).columns))\n",
    "\n",
    "    column_names = list(set(column_names))\n",
    "    metadata[table] = {}\n",
    "    for column_name in column_names:\n",
    "        metadata[table][column_name] = None\n",
    "\n",
    "if os.path.isfile(\"metadata.json\"):\n",
    "    print(\"metadata.json exists already!!! \")\n",
    "else:\n",
    "    with open(\"metadata.json\", \"w\") as f:\n",
    "        json.dump(metadata, f)"
   ],
   "metadata": {
    "collapsed": false,
    "ExecuteTime": {
     "start_time": "2023-05-01T17:27:26.254160Z",
     "end_time": "2023-05-01T17:27:26.571106Z"
    }
   }
  },
  {
   "cell_type": "code",
   "execution_count": 8,
   "outputs": [],
   "source": [
    "import json\n",
    "from glob import glob\n",
    "import os\n",
    "#os.environ[\"SPORTS_DB\"] = \"/ext/daten-wi/slangenecker/SportsTables\"\n",
    "os.environ[\"SPORTS_DB\"] = \"C:/Users/jwuel/DataspellProjects/SportsTables\"\n",
    "from os.path import join\n",
    "import pandas as pd\n",
    "\n",
    "def get_sportsDB_soccer_type_mappings():\n",
    "    with open(join(os.environ[\"SPORTS_DB\"], \"Soccer\", \"Soccer-Relations.json\"), \"r\") as f:\n",
    "        type_mappings = json.load(f)[\"soccer-big5Leagues-Players-2021-2022.csv\"][\"columns\"][0]\n",
    "        return type_mappings\n",
    "\n",
    "\n",
    "def get_all_sportsDB_soccer_tables(only_file_names:bool=False):\n",
    "    result = glob(join(os.environ[\"SPORTS_DB\"], \"Soccer\", \"soccerPlayerScraping\", \"*.csv\"))\n",
    "    if only_file_names:\n",
    "        return [table.split(\"/\")[-1] for table in result]\n",
    "    else:\n",
    "        return result\n",
    "\n",
    "def load_sportsDB_soccer_table(table_name:str, only_headers:bool=False):\n",
    "    df = pd.read_csv(join(os.environ[\"SPORTS_DB\"], \"Soccer\", \"soccerPlayerScraping\", table_name))\n",
    "    if only_headers:\n",
    "        return df.columns\n",
    "    else:\n",
    "        return df"
   ],
   "metadata": {
    "collapsed": false,
    "ExecuteTime": {
     "start_time": "2023-05-01T17:27:26.571106Z",
     "end_time": "2023-05-01T17:27:26.587211Z"
    }
   }
  }
 ],
 "metadata": {
  "kernelspec": {
   "display_name": "Python 3",
   "language": "python",
   "name": "python3"
  },
  "language_info": {
   "codemirror_mode": {
    "name": "ipython",
    "version": 2
   },
   "file_extension": ".py",
   "mimetype": "text/x-python",
   "name": "python",
   "nbconvert_exporter": "python",
   "pygments_lexer": "ipython2",
   "version": "2.7.6"
  }
 },
 "nbformat": 4,
 "nbformat_minor": 0
}
