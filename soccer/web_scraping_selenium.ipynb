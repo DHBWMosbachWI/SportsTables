{
 "cells": [
  {
   "cell_type": "markdown",
   "metadata": {},
   "source": [
    "    # Web-Scraping"
   ]
  },
  {
   "cell_type": "code",
   "execution_count": null,
   "outputs": [
    {
     "name": "stdout",
     "output_type": "stream",
     "text": [
      "1982\n",
      "Saved soccer_premier_league_results1982-198391_overall_1982.csv\n",
      "Saved soccer_premier_league_results1982-198391_home_away_1982.csv\n",
      "Saved soccer_premier_league_sched_1982-1983_9_1_1982.csv\n",
      "Saved soccer_Premier-League-Stats_player_stats_1982.csv\n",
      "not possible\n",
      "'NoneType' object is not callable\n",
      "1983\n",
      "Saved soccer_premier_league_results1983-198491_overall_1983.csv\n",
      "Saved soccer_premier_league_results1983-198491_home_away_1983.csv\n",
      "Saved soccer_premier_league_sched_1983-1984_9_1_1983.csv\n",
      "Saved soccer_Premier-League-Stats_player_stats_1983.csv\n",
      "not possible\n",
      "'NoneType' object is not callable\n",
      "1984\n",
      "Saved soccer_premier_league_results1984-198591_overall_1984.csv\n",
      "Saved soccer_premier_league_results1984-198591_home_away_1984.csv\n",
      "Saved soccer_premier_league_sched_1984-1985_9_1_1984.csv\n",
      "Saved soccer_Premier-League-Stats_player_stats_1984.csv\n",
      "not possible\n",
      "'NoneType' object is not callable\n",
      "1985\n",
      "Saved soccer_premier_league_results1985-198691_overall_1985.csv\n",
      "Saved soccer_premier_league_results1985-198691_home_away_1985.csv\n",
      "Saved soccer_premier_league_sched_1985-1986_9_1_1985.csv\n"
     ]
    }
   ],
   "source": [
    "# scraped all table data without getting httpconnectionpool error\n",
    "# season_standings and scores + extra tables + player_stats\n",
    "# 549 tables + 36 tables\n",
    "from dotenv import load_dotenv\n",
    "load_dotenv(override=True)\n",
    "from selenium import webdriver\n",
    "from selenium.webdriver.edge.service import Service as EdgeService\n",
    "from webdriver_manager.microsoft import EdgeChromiumDriverManager\n",
    "import time\n",
    "\n",
    "options = webdriver.EdgeOptions()\n",
    "options.add_argument('headless')\n",
    "driver = webdriver.Edge(service=EdgeService(EdgeChromiumDriverManager().install()), options=options)\n",
    "\n",
    "from web_scraping import get_soccer_league_season_standings, get_soccer_league_scores, get_soccer_leagues_ids, get_player_season_stats2\n",
    "\n",
    "current_season = 2022\n",
    "soccer_league_ids = get_soccer_leagues_ids()\n",
    "\n",
    "leagues = {\n",
    "    'premier_league': list(range(1982, 2000)),\n",
    "    'ligue_1': list(range(1989, 2000)),\n",
    "    'serie_a': list(range(1994, 2000)),\n",
    "    'la_liga': list(range(1993, 2000)),\n",
    "    'fussball-bundesliga': list(range(1988, 2000)),\n",
    "    'champions-league': list(range(1992, 2000)),\n",
    "\n",
    "}\n",
    "\n",
    "for league, years in leagues.items():\n",
    "    for year in years:\n",
    "        print(year)\n",
    "        get_soccer_league_season_standings(league, year, driver)\n",
    "        get_soccer_league_scores(league, year, driver)\n",
    "        try:\n",
    "            for soccer_league_id in soccer_league_ids:\n",
    "                if soccer_league_id[\"league_name\"] == \"Fußball-Bundesliga\" or soccer_league_id[\"league_name\"] == \"Big 5 European Leagues Combined\":\n",
    "                    continue\n",
    "                get_player_season_stats2(year, current_season, soccer_league_id[\"league_id\"], soccer_league_id[\"league_stats_name\"], driver, year)\n",
    "\n",
    "                time.sleep(3)\n",
    "\n",
    "        except Exception as e:\n",
    "            print(\"not possible\")\n",
    "            print(e)\n",
    "            pass\n",
    "\n",
    "driver.quit()\n"
   ],
   "metadata": {
    "collapsed": false,
    "ExecuteTime": {
     "start_time": "2023-06-11T20:37:54.893365Z",
     "end_time": "2023-06-11T21:00:51.231333Z"
    }
   }
  },
  {
   "cell_type": "code",
   "execution_count": null,
   "outputs": [
    {
     "name": "stdout",
     "output_type": "stream",
     "text": [
      "Saved Premier-League-Stats_results1982-198391_overall.csv\n",
      "Saved Premier-League-Stats_results1982-198391_home_away.csv\n",
      "not possible\n",
      "HTTPConnectionPool(host='localhost', port=50449): Max retries exceeded with url: /session/ab91ca3ea5833bb3e544ebc5f907786c/url (Caused by NewConnectionError('<urllib3.connection.HTTPConnection object at 0x00000273AB7C6EB0>: Failed to establish a new connection: [WinError 10061] Es konnte keine Verbindung hergestellt werden, da der Zielcomputer die Verbindung verweigerte'))\n",
      "not possible\n",
      "HTTPConnectionPool(host='localhost', port=50449): Max retries exceeded with url: /session/ab91ca3ea5833bb3e544ebc5f907786c/url (Caused by NewConnectionError('<urllib3.connection.HTTPConnection object at 0x00000273AB80B070>: Failed to establish a new connection: [WinError 10061] Es konnte keine Verbindung hergestellt werden, da der Zielcomputer die Verbindung verweigerte'))\n",
      "not possible\n",
      "HTTPConnectionPool(host='localhost', port=50449): Max retries exceeded with url: /session/ab91ca3ea5833bb3e544ebc5f907786c/url (Caused by NewConnectionError('<urllib3.connection.HTTPConnection object at 0x00000273AB80B550>: Failed to establish a new connection: [WinError 10061] Es konnte keine Verbindung hergestellt werden, da der Zielcomputer die Verbindung verweigerte'))\n",
      "not possible\n",
      "HTTPConnectionPool(host='localhost', port=50449): Max retries exceeded with url: /session/ab91ca3ea5833bb3e544ebc5f907786c/url (Caused by NewConnectionError('<urllib3.connection.HTTPConnection object at 0x00000273AB7C6FD0>: Failed to establish a new connection: [WinError 10061] Es konnte keine Verbindung hergestellt werden, da der Zielcomputer die Verbindung verweigerte'))\n",
      "not possible\n",
      "HTTPConnectionPool(host='localhost', port=50449): Max retries exceeded with url: /session/ab91ca3ea5833bb3e544ebc5f907786c/url (Caused by NewConnectionError('<urllib3.connection.HTTPConnection object at 0x00000273AB7C66A0>: Failed to establish a new connection: [WinError 10061] Es konnte keine Verbindung hergestellt werden, da der Zielcomputer die Verbindung verweigerte'))\n",
      "not possible\n",
      "HTTPConnectionPool(host='localhost', port=50449): Max retries exceeded with url: /session/ab91ca3ea5833bb3e544ebc5f907786c/url (Caused by NewConnectionError('<urllib3.connection.HTTPConnection object at 0x00000273AB80B4C0>: Failed to establish a new connection: [WinError 10061] Es konnte keine Verbindung hergestellt werden, da der Zielcomputer die Verbindung verweigerte'))\n",
      "not possible\n",
      "HTTPConnectionPool(host='localhost', port=50449): Max retries exceeded with url: /session/ab91ca3ea5833bb3e544ebc5f907786c/url (Caused by NewConnectionError('<urllib3.connection.HTTPConnection object at 0x00000273AB80BAF0>: Failed to establish a new connection: [WinError 10061] Es konnte keine Verbindung hergestellt werden, da der Zielcomputer die Verbindung verweigerte'))\n"
     ]
    }
   ],
   "source": [
    "# zeigt den Fehler, wenn alle Tabellen von den player stats geladen werden sollen\n",
    "\n",
    "from dotenv import load_dotenv\n",
    "load_dotenv(override=True)\n",
    "import os\n",
    "from os.path import join\n",
    "import time\n",
    "\n",
    "from web_scraping import get_player_season_stats, get_soccer_leagues_ids, get_soccer_league_season_standings\n",
    "\n",
    "\n",
    "current_season = 2022\n",
    "soccer_league_ids = get_soccer_leagues_ids()\n",
    "\n",
    "for year in range(1982, 2000):\n",
    "    for soccer_league_id in soccer_league_ids:\n",
    "        try:\n",
    "            standings = get_soccer_league_season_standings(year, current_season, soccer_league_id[\"league_id\"], soccer_league_id[\"league_stats_name\"])\n",
    "\n",
    "        except Exception as e:\n",
    "            if hasattr(e, 'message'):\n",
    "                print(e.message)\n",
    "            else:\n",
    "                print ('not possible')\n",
    "                print(e)\n",
    "                continue\n"
   ],
   "metadata": {
    "collapsed": false,
    "ExecuteTime": {
     "start_time": "2023-05-17T13:05:43.582022Z",
     "end_time": "2023-05-17T13:07:50.019135Z"
    }
   }
  },
  {
   "cell_type": "code",
   "execution_count": 1,
   "outputs": [
    {
     "name": "stdout",
     "output_type": "stream",
     "text": [
      "1999\n",
      "Saved Premier-League-Stats_stats_standard_9_1999-2000.csv\n",
      "Saved Premier-League-Stats_matchlogs_for_1999-2000.csv\n",
      "Saved Premier-League-Stats_stats_keeper_9_1999-2000.csv\n",
      "Saved Premier-League-Stats_stats_shooting_9_1999-2000.csv\n",
      "Saved Premier-League-Stats_stats_playing_time_9_1999-2000.csv\n",
      "Saved Premier-League-Stats_stats_misc_9_1999-2000.csv\n",
      "Saved Premier-League-Stats_results1999-200091_overall_1999-2000.csv\n",
      "Saved Premier-League-Stats_results1999-200091_home_away_1999-2000.csv\n",
      "not possible\n"
     ]
    }
   ],
   "source": [
    "# zeigt wie die player stats gescraped werden (nur premier league), also alle tabellen und dann alle Tabellen mit dem gleichen Namen werden zusammengefügt\n",
    "# 1 Jahr geht, aber mehr dann nicht\n",
    "\n",
    "from dotenv import load_dotenv\n",
    "load_dotenv(override=True)\n",
    "import os\n",
    "from os.path import join\n",
    "import time\n",
    "\n",
    "from web_scraping import get_soccer_leagues_ids, get_soccer_league_season_standings, get_soccer_teams_url, get_player_season_stats\n",
    "\n",
    "current_season = 2022\n",
    "soccer_league_ids = get_soccer_leagues_ids()\n",
    "\n",
    "for year in range(1999,2000):\n",
    "    print(year)\n",
    "    try:\n",
    "        for soccer_league_id in soccer_league_ids:\n",
    "            if soccer_league_id[\"league_name\"] == \"Fußball-Bundesliga\" or soccer_league_id[\"league_name\"] == \"Big 5 European Leagues Combined\":\n",
    "                continue\n",
    "\n",
    "            # get player stats\n",
    "            df = get_player_season_stats(year, current_season, soccer_league_id[\"league_id\"], soccer_league_id[\"league_stats_name\"])\n",
    "            df.to_csv(join(os.environ[\"SportsTables\"], \"soccer\", f\"{soccer_league_id['league_name'].replace(' ','-')}_player_stats_{year}.csv\"), index=False)\n",
    "\n",
    "            time.sleep(3)\n",
    "    except:\n",
    "        print(\"not possible\")\n",
    "        continue"
   ],
   "metadata": {
    "collapsed": false,
    "ExecuteTime": {
     "start_time": "2023-05-20T17:21:46.481959Z",
     "end_time": "2023-05-20T17:25:41.702822Z"
    }
   }
  },
  {
   "cell_type": "markdown",
   "metadata": {},
   "source": [
    "# Extract column headers from different tables"
   ]
  },
  {
   "cell_type": "code",
   "execution_count": 4,
   "metadata": {
    "ExecuteTime": {
     "start_time": "2023-05-26T16:11:21.793336Z",
     "end_time": "2023-05-26T16:11:22.054896Z"
    }
   },
   "outputs": [],
   "source": [
    "import json\n",
    "from glob import glob\n",
    "from dotenv import load_dotenv\n",
    "load_dotenv(override=True)\n",
    "\n",
    "import os\n",
    "from os.path import join\n",
    "import sys\n",
    "import pandas as pd\n",
    "\n",
    "metadata = {}\n",
    "\n",
    "tables = [\"player_stats\", \"nations\", \"results_home_away\", \"results _overall\", \"shed\", \"stats_squad_keeper_against\",\"stats_squads_keeper_for\", \"stats_squads_misc_against\", \"stats_squad_misc_for\", \"stats_squads_playing_time_against\", \"stats_squads_playing_time_for\", \"stats_squads_shooting_against\", \"stats_squads_shooting_for\", \"stats_squads_standard_against\", \"stats_squads_standard_for\"]\n",
    "\n",
    "for table in tables:\n",
    "    column_names = []\n",
    "    for found_table in glob(join(os.environ[\"SportsTables\"], \"soccer\", f\"*{table}_*.csv\")):\n",
    "        column_names.extend(list(pd.read_csv(found_table).columns))\n",
    "    \n",
    "    column_names = list(set(column_names))\n",
    "    metadata[table] = {}\n",
    "    for column_name in column_names:\n",
    "        metadata[table][column_name] = None\n",
    "    \n",
    "if os.path.isfile(\"metadata.json\"):\n",
    "    print(\"metadata.json exists already!!! \")\n",
    "else:\n",
    "    with open(\"metadata.json\", \"w\") as f:\n",
    "        json.dump(metadata, f)"
   ]
  },
  {
   "cell_type": "markdown",
   "metadata": {},
   "source": [
    "# Extract valid header file"
   ]
  },
  {
   "cell_type": "code",
   "execution_count": 12,
   "metadata": {
    "ExecuteTime": {
     "start_time": "2023-05-26T16:14:25.237094Z",
     "end_time": "2023-05-26T16:14:25.259565Z"
    }
   },
   "outputs": [],
   "source": [
    "import json\n",
    "from glob import glob\n",
    "import os \n",
    "#os.environ[\"SPORTS_DB\"] = \"/ext/daten-wi/slangenecker/SportsTables\"\n",
    "os.environ[\"SPORTS_DB\"] = \"C:/Users/jwuel/DataspellProjects/SportsTables\"\n",
    "from os.path import join\n",
    "import pandas as pd\n",
    "\n",
    "def get_sportsDB_soccer_type_mappings():\n",
    "    with open(join(os.environ[\"SPORTS_DB\"], \"Soccer\", \"Soccer-Relations.json\"), \"r\") as f:\n",
    "        type_mappings = json.load(f)[\"soccer-big5Leagues-Players-2021-2022.csv\"][\"columns\"][0]\n",
    "        return type_mappings\n",
    "\n",
    "\n",
    "def get_all_sportsDB_soccer_tables(only_file_names:bool=False):\n",
    "    result = glob(join(os.environ[\"SPORTS_DB\"], \"Soccer\", \"soccerPlayerScraping\", \"*.csv\"))\n",
    "    if only_file_names:\n",
    "        return [table.split(\"/\")[-1] for table in result]\n",
    "    else:\n",
    "        return result\n",
    "\n",
    "def load_sportsDB_soccer_table(table_name:str, only_headers:bool=False):\n",
    "    df = pd.read_csv(join(os.environ[\"SPORTS_DB\"], \"Soccer\", \"soccerPlayerScraping\", table_name))\n",
    "    if only_headers:\n",
    "        return df.columns\n",
    "    else:\n",
    "        return df"
   ]
  },
  {
   "cell_type": "code",
   "execution_count": 11,
   "metadata": {},
   "outputs": [
    {
     "ename": "FileNotFoundError",
     "evalue": "[Errno 2] No such file or directory: 'C:/Users/jwuel/DataspellProjects/SportsTables\\\\Soccer\\\\Soccer-Relations.json'",
     "output_type": "error",
     "traceback": [
      "\u001B[1;31m---------------------------------------------------------------------------\u001B[0m",
      "\u001B[1;31mFileNotFoundError\u001B[0m                         Traceback (most recent call last)",
      "Cell \u001B[1;32mIn[11], line 1\u001B[0m\n\u001B[1;32m----> 1\u001B[0m col_name_to_sem_type \u001B[38;5;241m=\u001B[39m \u001B[43mget_sportsDB_soccer_type_mappings\u001B[49m\u001B[43m(\u001B[49m\u001B[43m)\u001B[49m\n\u001B[0;32m      3\u001B[0m results \u001B[38;5;241m=\u001B[39m {}\n\u001B[0;32m      4\u001B[0m \u001B[38;5;28;01mfor\u001B[39;00m table \u001B[38;5;129;01min\u001B[39;00m get_all_sportsDB_soccer_tables(\u001B[38;5;28;01mTrue\u001B[39;00m):\n",
      "Cell \u001B[1;32mIn[10], line 10\u001B[0m, in \u001B[0;36mget_sportsDB_soccer_type_mappings\u001B[1;34m()\u001B[0m\n\u001B[0;32m      9\u001B[0m \u001B[38;5;28;01mdef\u001B[39;00m \u001B[38;5;21mget_sportsDB_soccer_type_mappings\u001B[39m():\n\u001B[1;32m---> 10\u001B[0m     \u001B[38;5;28;01mwith\u001B[39;00m \u001B[38;5;28;43mopen\u001B[39;49m\u001B[43m(\u001B[49m\u001B[43mjoin\u001B[49m\u001B[43m(\u001B[49m\u001B[43mos\u001B[49m\u001B[38;5;241;43m.\u001B[39;49m\u001B[43menviron\u001B[49m\u001B[43m[\u001B[49m\u001B[38;5;124;43m\"\u001B[39;49m\u001B[38;5;124;43mSPORTS_DB\u001B[39;49m\u001B[38;5;124;43m\"\u001B[39;49m\u001B[43m]\u001B[49m\u001B[43m,\u001B[49m\u001B[43m \u001B[49m\u001B[38;5;124;43m\"\u001B[39;49m\u001B[38;5;124;43mSoccer\u001B[39;49m\u001B[38;5;124;43m\"\u001B[39;49m\u001B[43m,\u001B[49m\u001B[43m \u001B[49m\u001B[38;5;124;43m\"\u001B[39;49m\u001B[38;5;124;43mSoccer-Relations.json\u001B[39;49m\u001B[38;5;124;43m\"\u001B[39;49m\u001B[43m)\u001B[49m\u001B[43m,\u001B[49m\u001B[43m \u001B[49m\u001B[38;5;124;43m\"\u001B[39;49m\u001B[38;5;124;43mr\u001B[39;49m\u001B[38;5;124;43m\"\u001B[39;49m\u001B[43m)\u001B[49m \u001B[38;5;28;01mas\u001B[39;00m f:\n\u001B[0;32m     11\u001B[0m         type_mappings \u001B[38;5;241m=\u001B[39m json\u001B[38;5;241m.\u001B[39mload(f)[\u001B[38;5;124m\"\u001B[39m\u001B[38;5;124msoccer-big5Leagues-Players-2021-2022.csv\u001B[39m\u001B[38;5;124m\"\u001B[39m][\u001B[38;5;124m\"\u001B[39m\u001B[38;5;124mcolumns\u001B[39m\u001B[38;5;124m\"\u001B[39m][\u001B[38;5;241m0\u001B[39m]\n\u001B[0;32m     12\u001B[0m         \u001B[38;5;28;01mreturn\u001B[39;00m type_mappings\n",
      "File \u001B[1;32m~\\anaconda3\\lib\\site-packages\\IPython\\core\\interactiveshell.py:284\u001B[0m, in \u001B[0;36m_modified_open\u001B[1;34m(file, *args, **kwargs)\u001B[0m\n\u001B[0;32m    277\u001B[0m \u001B[38;5;28;01mif\u001B[39;00m file \u001B[38;5;129;01min\u001B[39;00m {\u001B[38;5;241m0\u001B[39m, \u001B[38;5;241m1\u001B[39m, \u001B[38;5;241m2\u001B[39m}:\n\u001B[0;32m    278\u001B[0m     \u001B[38;5;28;01mraise\u001B[39;00m \u001B[38;5;167;01mValueError\u001B[39;00m(\n\u001B[0;32m    279\u001B[0m         \u001B[38;5;124mf\u001B[39m\u001B[38;5;124m\"\u001B[39m\u001B[38;5;124mIPython won\u001B[39m\u001B[38;5;124m'\u001B[39m\u001B[38;5;124mt let you open fd=\u001B[39m\u001B[38;5;132;01m{\u001B[39;00mfile\u001B[38;5;132;01m}\u001B[39;00m\u001B[38;5;124m by default \u001B[39m\u001B[38;5;124m\"\u001B[39m\n\u001B[0;32m    280\u001B[0m         \u001B[38;5;124m\"\u001B[39m\u001B[38;5;124mas it is likely to crash IPython. If you know what you are doing, \u001B[39m\u001B[38;5;124m\"\u001B[39m\n\u001B[0;32m    281\u001B[0m         \u001B[38;5;124m\"\u001B[39m\u001B[38;5;124myou can use builtins\u001B[39m\u001B[38;5;124m'\u001B[39m\u001B[38;5;124m open.\u001B[39m\u001B[38;5;124m\"\u001B[39m\n\u001B[0;32m    282\u001B[0m     )\n\u001B[1;32m--> 284\u001B[0m \u001B[38;5;28;01mreturn\u001B[39;00m io_open(file, \u001B[38;5;241m*\u001B[39margs, \u001B[38;5;241m*\u001B[39m\u001B[38;5;241m*\u001B[39mkwargs)\n",
      "\u001B[1;31mFileNotFoundError\u001B[0m: [Errno 2] No such file or directory: 'C:/Users/jwuel/DataspellProjects/SportsTables\\\\Soccer\\\\Soccer-Relations.json'"
     ]
    }
   ],
   "source": [
    "col_name_to_sem_type = get_sportsDB_soccer_type_mappings()\n",
    "\n",
    "results = {}\n",
    "for table in get_all_sportsDB_soccer_tables(True):\n",
    "    print(table)\n",
    "    results[table.split(\".csv\")[0]] = {}\n",
    "    col_names = load_sportsDB_soccer_table(table, True)\n",
    "    for col_num, col_name in enumerate(col_names):\n",
    "        try:\n",
    "            results[table.split(\".csv\")[0]][f\"column_{col_num}\"] = { \"semanticType\": col_name_to_sem_type[col_name]}\n",
    "        except:\n",
    "            print(col_name)\n",
    "    \n",
    "with open(join(os.environ[\"SPORTS_DB\"], \"Soccer\", \"sportsDB_type_sportsDB.json\"), \"w\") as f:\n",
    "    json.dump(results, f)"
   ]
  },
  {
   "cell_type": "code",
   "execution_count": null,
   "metadata": {},
   "outputs": [],
   "source": []
  },
  {
   "cell_type": "code",
   "execution_count": null,
   "outputs": [],
   "source": [],
   "metadata": {
    "collapsed": false
   }
  }
 ],
 "metadata": {
  "kernelspec": {
   "display_name": "Python 3.9.2 64-bit",
   "language": "python",
   "name": "python3"
  },
  "language_info": {
   "codemirror_mode": {
    "name": "ipython",
    "version": 3
   },
   "file_extension": ".py",
   "mimetype": "text/x-python",
   "name": "python",
   "nbconvert_exporter": "python",
   "pygments_lexer": "ipython3",
   "version": "3.9.2"
  },
  "orig_nbformat": 4,
  "vscode": {
   "interpreter": {
    "hash": "31f2aee4e71d21fbe5cf8b01ff0e069b9275f58929596ceb00d14d90e3e16cd6"
   }
  }
 },
 "nbformat": 4,
 "nbformat_minor": 2
}
