{
 "cells": [
  {
   "cell_type": "code",
   "execution_count": 3,
   "outputs": [
    {
     "name": "stdout",
     "output_type": "stream",
     "text": [
      "Scraped 44 tables from 69 pages.\n"
     ]
    }
   ],
   "source": [
    "from selenium.webdriver.common.by import By\n",
    "from selenium import webdriver\n",
    "import pandas as pd\n",
    "\n",
    "leagues = {\n",
    "    'premier_league': list(range(1982, 1983)),\n",
    "    'ligue_1': list(range(1989, 2000)),\n",
    "    'serie_a': list(range(1994, 2000)),\n",
    "    'la_liga': list(range(1993, 2000))\n",
    "}\n",
    "\n",
    "options = webdriver.ChromeOptions()\n",
    "options.add_argument('headless')\n",
    "\n",
    "driver = webdriver.Chrome(options=options)\n",
    "\n",
    "for league, years in leagues.items():\n",
    "    for year in years:\n",
    "        if league == 'premier_league':\n",
    "            url = f'https://fbref.com/en/comps/9/{year}-{year+1}/{year}-{year+1}-Premier-League-Stats'\n",
    "        elif league == 'ligue_1':\n",
    "            url = f'https://fbref.com/en/comps/13/{year}-{year+1}/{year}-{year+1}-Ligue-1-Stats'\n",
    "        elif league == 'serie_a':\n",
    "            url = f'https://fbref.com/en/comps/11/{year}-{year+1}/{year}-{year+1}-Serie-A-Stats'\n",
    "        elif league == 'la_liga':\n",
    "            url = f'https://fbref.com/en/comps/12/{year}-{year+1}/{year}-{year+1}-La-Liga-Stats'\n",
    "        driver.get(url)\n",
    "        try:\n",
    "            tables = driver.find_elements(By.TAG_NAME, \"table\")\n",
    "\n",
    "            dfs = []\n",
    "            for table in tables:\n",
    "                html = table.get_attribute(\"outerHTML\")\n",
    "                df = pd.read_html(html)[0]\n",
    "                dfs.append(df)\n",
    "\n",
    "            result = pd.concat(dfs)\n",
    "\n",
    "            result.to_csv(f'{league}_season_standings_{year}.csv', index=False)\n",
    "\n",
    "\n",
    "        except:\n",
    "            print(\"not possible\")\n",
    "            pass\n",
    "\n",
    "print(f\"Scraped {len(result)} tables from {len(url)} pages.\")\n",
    "\n",
    "# Close the browser session\n",
    "driver.quit()"
   ],
   "metadata": {
    "collapsed": false,
    "ExecuteTime": {
     "start_time": "2023-05-04T23:10:45.635905Z",
     "end_time": "2023-05-04T23:10:56.223802Z"
    }
   }
  },
  {
   "cell_type": "code",
   "execution_count": 1,
   "outputs": [
    {
     "name": "stdout",
     "output_type": "stream",
     "text": [
      "1982\n",
      "Scraped 66 tables from 22 pages.\n",
      "not possible\n"
     ]
    }
   ],
   "source": [
    "### extract all soccer data\n",
    "\n",
    "from dotenv import load_dotenv\n",
    "load_dotenv(override=True)\n",
    "import os\n",
    "from os.path import join\n",
    "import time\n",
    "\n",
    "from web_scraping import get_soccer_leagues_ids, get_soccer_league_season_standings, get_soccer_teams_url, get_player_season_stats\n",
    "\n",
    "current_season = 2022\n",
    "soccer_league_ids = get_soccer_leagues_ids()\n",
    "\n",
    "for year in range(1982,2000):\n",
    "    print(year)\n",
    "    try:\n",
    "        for soccer_league_id in soccer_league_ids:\n",
    "            if soccer_league_id[\"league_name\"] == \"Fußball-Bundesliga\" or soccer_league_id[\"league_name\"] == \"Big 5 European Leagues Combined\":\n",
    "                continue\n",
    "\n",
    "            # get player stats\n",
    "            df = get_player_season_stats(year, current_season, soccer_league_id[\"league_id\"], soccer_league_id[\"league_stats_name\"])\n",
    "            df.to_csv(join(os.environ[\"SportsTables\"], \"soccer\", f\"{soccer_league_id['league_name'].replace(' ','-')}_player_stats_{year}.csv\"), index=False)\n",
    "\n",
    "            time.sleep(3)\n",
    "    except:\n",
    "        print(\"not possible\")\n",
    "        continue\n"
   ],
   "metadata": {
    "collapsed": false,
    "ExecuteTime": {
     "start_time": "2023-05-04T23:13:04.151862Z",
     "end_time": "2023-05-04T23:14:56.849690Z"
    }
   }
  }
 ],
 "metadata": {
  "kernelspec": {
   "display_name": "Python 3",
   "language": "python",
   "name": "python3"
  },
  "language_info": {
   "codemirror_mode": {
    "name": "ipython",
    "version": 2
   },
   "file_extension": ".py",
   "mimetype": "text/x-python",
   "name": "python",
   "nbconvert_exporter": "python",
   "pygments_lexer": "ipython2",
   "version": "2.7.6"
  }
 },
 "nbformat": 4,
 "nbformat_minor": 0
}
