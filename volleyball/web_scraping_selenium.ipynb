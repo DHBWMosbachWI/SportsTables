{
 "cells": [
  {
   "cell_type": "code",
   "execution_count": 1,
   "outputs": [
    {
     "name": "stdout",
     "output_type": "stream",
     "text": [
      "2015\n",
      "Saved volleyball_einzelranking__1_bundesliga_männer_saison_201516_2015_2016.csv\n",
      "Saved volleyball_teamranking__1_bundesliga_männer_saison_201516_2015_2016.csv\n",
      "Saved volleyball_einzelranking__1_bundesliga_männer_playoff_saison_201516_2015_2016.csv\n",
      "Saved volleyball_einzelranking__1_bundesliga_frauen_saison_201516_2015_2016.csv\n",
      "Saved volleyball_teamranking__1_bundesliga_frauen_saison_201516_2015_2016.csv\n",
      "Saved volleyball_einzelranking__1_bundesliga_frauen_playoff_saison_201516_2015_2016.csv\n",
      "2016\n",
      "Saved volleyball_einzelranking__1_bundesliga_männer_saison_201617_2016_2017.csv\n",
      "Saved volleyball_teamranking__1_bundesliga_männer_saison_201617_2016_2017.csv\n",
      "Saved volleyball_einzelranking__1_bundesliga_männer_playoff_saison_201617_2016_2017.csv\n",
      "Saved volleyball_teamranking__1_bundesliga_männer_playoff_saison_201617_2016_2017.csv\n",
      "Saved volleyball_einzelranking__1_bundesliga_frauen_saison_201617_2016_2017.csv\n",
      "Saved volleyball_teamranking__1_bundesliga_frauen_saison_201617_2016_2017.csv\n",
      "Saved volleyball_einzelranking__1_bundesliga_frauen_playoff_saison_201617_2016_2017.csv\n",
      "Saved volleyball_teamranking__1_bundesliga_frauen_playoff_saison_201617_2016_2017.csv\n",
      "2017\n"
     ]
    },
    {
     "name": "stderr",
     "output_type": "stream",
     "text": [
      "\n",
      "KeyboardInterrupt\n",
      "\n"
     ]
    }
   ],
   "source": [
    "from dotenv import load_dotenv\n",
    "load_dotenv(override=True)\n",
    "from selenium import webdriver\n",
    "from selenium.webdriver.edge.service import Service as EdgeService\n",
    "from webdriver_manager.microsoft import EdgeChromiumDriverManager\n",
    "\n",
    "options = webdriver.EdgeOptions()\n",
    "options.add_argument('headless')\n",
    "driver = webdriver.Edge(service=EdgeService(EdgeChromiumDriverManager().install()), options=options)\n",
    "\n",
    "from web_scraping import get_volleyball_league_scores_bundesliga_men, get_volleyball_league_scores_bundesliga_women\n",
    "\n",
    "years = range(2015, 2023)\n",
    "\n",
    "for year in years:\n",
    "    print(year)\n",
    "    get_volleyball_league_scores_bundesliga_men(year, driver)\n",
    "    get_volleyball_league_scores_bundesliga_women(year, driver)\n",
    "\n",
    "driver.quit()"
   ],
   "metadata": {
    "collapsed": false,
    "ExecuteTime": {
     "start_time": "2023-06-18T20:16:04.469761Z",
     "end_time": "2023-06-18T20:16:59.461179Z"
    }
   }
  },
  {
   "cell_type": "code",
   "execution_count": 1,
   "outputs": [
    {
     "name": "stderr",
     "output_type": "stream",
     "text": [
      "[WDM] - Downloading: 100%|██████████| 8.22M/8.22M [00:01<00:00, 6.63MB/s]\n"
     ]
    },
    {
     "name": "stdout",
     "output_type": "stream",
     "text": [
      "2015\n",
      "2016\n",
      "2017\n",
      "2018\n",
      "2019\n",
      "2020\n",
      "2021\n",
      "2022\n"
     ]
    }
   ],
   "source": [
    "# funktioniert ABER\n",
    "    # erste Zeile wird nicht mitgenommen\n",
    "    # Formatierung der Datei ist falsch (komplette Zeile steht in einer Zelle)\n",
    "from dotenv import load_dotenv\n",
    "load_dotenv(override=True)\n",
    "import os\n",
    "from os.path import join\n",
    "from selenium import webdriver\n",
    "from selenium.webdriver.edge.service import Service as EdgeService\n",
    "from webdriver_manager.microsoft import EdgeChromiumDriverManager\n",
    "\n",
    "options = webdriver.EdgeOptions()\n",
    "options.add_argument('headless')\n",
    "driver = webdriver.Edge(service=EdgeService(EdgeChromiumDriverManager().install()), options=options)\n",
    "\n",
    "from web_scraping import get_volleyball_league_scores\n",
    "\n",
    "years = range(2015, 2023)\n",
    "\n",
    "for year in years:\n",
    "    print(year)\n",
    "    df = get_volleyball_league_scores(year, driver)\n",
    "    df.to_csv(join(os.environ[\"SportsTables\"], \"volleyball\", f\"bundesliga_men_player_ranking_serve_{year}.csv\"), sep=',', index=False)\n",
    "\n",
    "driver.quit()"
   ],
   "metadata": {
    "collapsed": false
   }
  }
 ],
 "metadata": {
  "kernelspec": {
   "display_name": "Python 3",
   "language": "python",
   "name": "python3"
  },
  "language_info": {
   "codemirror_mode": {
    "name": "ipython",
    "version": 2
   },
   "file_extension": ".py",
   "mimetype": "text/x-python",
   "name": "python",
   "nbconvert_exporter": "python",
   "pygments_lexer": "ipython2",
   "version": "2.7.6"
  }
 },
 "nbformat": 4,
 "nbformat_minor": 0
}
