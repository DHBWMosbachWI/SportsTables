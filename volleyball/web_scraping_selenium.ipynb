{
 "cells": [
  {
   "cell_type": "code",
   "execution_count": 2,
   "outputs": [],
   "source": [
    "# scraped alle tabellen von der url\n",
    "\n",
    "import pandas as pd\n",
    "from selenium import webdriver\n",
    "from bs4 import BeautifulSoup\n",
    "import time\n",
    "import re\n",
    "\n",
    "driver = webdriver.Chrome()\n",
    "\n",
    "years = range(2016, 2023)\n",
    "\n",
    "for year in years:\n",
    "    url = f'https://www.volleyball-bundesliga.de/cms/home/1_bundesliga_maenner/archiv/statistikrankings/saison_{year}_{year + 1 - 2000}.xhtml'\n",
    "    driver.get(url)\n",
    "    time.sleep(5)\n",
    "    html = driver.page_source\n",
    "\n",
    "    soup = BeautifulSoup(html, 'html.parser')\n",
    "    tables = soup.find_all('table')\n",
    "\n",
    "    for i, table in enumerate(tables):\n",
    "        h1_tag = table.find_previous('h1')\n",
    "        title = re.sub(r'[^\\w\\s-]', '', h1_tag.text.strip())\n",
    "        title = title.lower()\n",
    "        df = pd.read_html(str(table))[0]\n",
    "        filename = f'{title.replace(\" \", \"_\").replace(\"  \", \"_\")}_{year}_{year + 1}.csv'\n",
    "        df.to_csv(filename, index=False)\n",
    "\n",
    "driver.quit()\n"
   ],
   "metadata": {
    "collapsed": false,
    "ExecuteTime": {
     "start_time": "2023-06-12T20:39:02.199117Z",
     "end_time": "2023-06-12T20:39:51.048570Z"
    }
   }
  },
  {
   "cell_type": "code",
   "execution_count": 4,
   "outputs": [
    {
     "name": "stdout",
     "output_type": "stream",
     "text": [
      "not possible\n",
      "not possible\n",
      "not possible\n",
      "not possible\n",
      "not possible\n",
      "not possible\n"
     ]
    }
   ],
   "source": [
    "# keine ahnung geht nicht\n",
    "from selenium import webdriver\n",
    "\n",
    "from web_scraping import get_volleyball_league_scores\n",
    "\n",
    "options = webdriver.ChromeOptions()\n",
    "options.add_argument('headless')\n",
    "\n",
    "driver = webdriver.Chrome(options= options)\n",
    "\n",
    "years = range(2016, 2023)\n",
    "\n",
    "for year in years:\n",
    "     get_volleyball_league_scores(year)\n",
    "\n",
    "driver.quit()"
   ],
   "metadata": {
    "collapsed": false,
    "ExecuteTime": {
     "start_time": "2023-06-12T20:41:04.166244Z",
     "end_time": "2023-06-12T20:41:48.539053Z"
    }
   }
  },
  {
   "cell_type": "code",
   "execution_count": 5,
   "outputs": [],
   "source": [
    "# scraped alle tabellen von der url\n",
    "\n",
    "import pandas as pd\n",
    "from selenium import webdriver\n",
    "from bs4 import BeautifulSoup\n",
    "import time\n",
    "import re\n",
    "\n",
    "driver = webdriver.Chrome()\n",
    "\n",
    "years = range(2015, 2023)\n",
    "\n",
    "for year in years:\n",
    "    url = f'https://www.volleyball-bundesliga.de/cms/home/1_bundesliga_frauen/archiv/statistikrankings/saison_{year}_{year + 1 - 2000}.xhtml'\n",
    "    driver.get(url)\n",
    "    time.sleep(5)\n",
    "    html = driver.page_source\n",
    "\n",
    "    soup = BeautifulSoup(html, 'html.parser')\n",
    "    tables = soup.find_all('table')\n",
    "\n",
    "    for i, table in enumerate(tables):\n",
    "        h1_tag = table.find_previous('h1')\n",
    "        title = re.sub(r'[^\\w\\s-]', '', h1_tag.text.strip())\n",
    "        title = title.lower()\n",
    "        df = pd.read_html(str(table))[0]\n",
    "        filename = f'{title.replace(\" \", \"_\").replace(\"  \", \"_\")}_{year}_{year + 1}.csv'\n",
    "        df.to_csv(filename, index=False)\n",
    "\n",
    "driver.quit()\n"
   ],
   "metadata": {
    "collapsed": false,
    "ExecuteTime": {
     "start_time": "2023-06-12T21:06:59.750800Z",
     "end_time": "2023-06-12T21:08:14.387646Z"
    }
   }
  },
  {
   "cell_type": "code",
   "execution_count": null,
   "outputs": [],
   "source": [],
   "metadata": {
    "collapsed": false
   }
  }
 ],
 "metadata": {
  "kernelspec": {
   "display_name": "Python 3",
   "language": "python",
   "name": "python3"
  },
  "language_info": {
   "codemirror_mode": {
    "name": "ipython",
    "version": 2
   },
   "file_extension": ".py",
   "mimetype": "text/x-python",
   "name": "python",
   "nbconvert_exporter": "python",
   "pygments_lexer": "ipython2",
   "version": "2.7.6"
  }
 },
 "nbformat": 4,
 "nbformat_minor": 0
}
